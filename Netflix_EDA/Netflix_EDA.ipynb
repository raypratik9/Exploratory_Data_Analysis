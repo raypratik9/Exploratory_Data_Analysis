{
 "cells": [
  {
   "cell_type": "code",
   "execution_count": 111,
   "id": "5ac8b50b",
   "metadata": {},
   "outputs": [],
   "source": [
    "import numpy as np\n",
    "import pandas as pd\n",
    "import matplotlib.pyplot as plt\n",
    "import math\n",
    "import seaborn as sns"
   ]
  },
  {
   "cell_type": "code",
   "execution_count": 112,
   "id": "24d6b593",
   "metadata": {},
   "outputs": [],
   "source": [
    "df=pd.read_csv(r'C:\\Users\\raypr\\OneDrive\\Desktop\\scaler_dataset\\netflix.csv')"
   ]
  },
  {
   "cell_type": "code",
   "execution_count": 113,
   "id": "976bb5a5",
   "metadata": {},
   "outputs": [
    {
     "data": {
      "text/html": [
       "<div>\n",
       "<style scoped>\n",
       "    .dataframe tbody tr th:only-of-type {\n",
       "        vertical-align: middle;\n",
       "    }\n",
       "\n",
       "    .dataframe tbody tr th {\n",
       "        vertical-align: top;\n",
       "    }\n",
       "\n",
       "    .dataframe thead th {\n",
       "        text-align: right;\n",
       "    }\n",
       "</style>\n",
       "<table border=\"1\" class=\"dataframe\">\n",
       "  <thead>\n",
       "    <tr style=\"text-align: right;\">\n",
       "      <th></th>\n",
       "      <th>show_id</th>\n",
       "      <th>type</th>\n",
       "      <th>title</th>\n",
       "      <th>director</th>\n",
       "      <th>cast</th>\n",
       "      <th>country</th>\n",
       "      <th>date_added</th>\n",
       "      <th>release_year</th>\n",
       "      <th>rating</th>\n",
       "      <th>duration</th>\n",
       "      <th>listed_in</th>\n",
       "      <th>description</th>\n",
       "    </tr>\n",
       "  </thead>\n",
       "  <tbody>\n",
       "    <tr>\n",
       "      <th>0</th>\n",
       "      <td>s1</td>\n",
       "      <td>Movie</td>\n",
       "      <td>Dick Johnson Is Dead</td>\n",
       "      <td>Kirsten Johnson</td>\n",
       "      <td>NaN</td>\n",
       "      <td>United States</td>\n",
       "      <td>September 25, 2021</td>\n",
       "      <td>2020</td>\n",
       "      <td>PG-13</td>\n",
       "      <td>90 min</td>\n",
       "      <td>Documentaries</td>\n",
       "      <td>As her father nears the end of his life, filmm...</td>\n",
       "    </tr>\n",
       "    <tr>\n",
       "      <th>1</th>\n",
       "      <td>s2</td>\n",
       "      <td>TV Show</td>\n",
       "      <td>Blood &amp; Water</td>\n",
       "      <td>NaN</td>\n",
       "      <td>Ama Qamata, Khosi Ngema, Gail Mabalane, Thaban...</td>\n",
       "      <td>South Africa</td>\n",
       "      <td>September 24, 2021</td>\n",
       "      <td>2021</td>\n",
       "      <td>TV-MA</td>\n",
       "      <td>2 Seasons</td>\n",
       "      <td>International TV Shows, TV Dramas, TV Mysteries</td>\n",
       "      <td>After crossing paths at a party, a Cape Town t...</td>\n",
       "    </tr>\n",
       "    <tr>\n",
       "      <th>2</th>\n",
       "      <td>s3</td>\n",
       "      <td>TV Show</td>\n",
       "      <td>Ganglands</td>\n",
       "      <td>Julien Leclercq</td>\n",
       "      <td>Sami Bouajila, Tracy Gotoas, Samuel Jouy, Nabi...</td>\n",
       "      <td>NaN</td>\n",
       "      <td>September 24, 2021</td>\n",
       "      <td>2021</td>\n",
       "      <td>TV-MA</td>\n",
       "      <td>1 Season</td>\n",
       "      <td>Crime TV Shows, International TV Shows, TV Act...</td>\n",
       "      <td>To protect his family from a powerful drug lor...</td>\n",
       "    </tr>\n",
       "    <tr>\n",
       "      <th>3</th>\n",
       "      <td>s4</td>\n",
       "      <td>TV Show</td>\n",
       "      <td>Jailbirds New Orleans</td>\n",
       "      <td>NaN</td>\n",
       "      <td>NaN</td>\n",
       "      <td>NaN</td>\n",
       "      <td>September 24, 2021</td>\n",
       "      <td>2021</td>\n",
       "      <td>TV-MA</td>\n",
       "      <td>1 Season</td>\n",
       "      <td>Docuseries, Reality TV</td>\n",
       "      <td>Feuds, flirtations and toilet talk go down amo...</td>\n",
       "    </tr>\n",
       "    <tr>\n",
       "      <th>4</th>\n",
       "      <td>s5</td>\n",
       "      <td>TV Show</td>\n",
       "      <td>Kota Factory</td>\n",
       "      <td>NaN</td>\n",
       "      <td>Mayur More, Jitendra Kumar, Ranjan Raj, Alam K...</td>\n",
       "      <td>India</td>\n",
       "      <td>September 24, 2021</td>\n",
       "      <td>2021</td>\n",
       "      <td>TV-MA</td>\n",
       "      <td>2 Seasons</td>\n",
       "      <td>International TV Shows, Romantic TV Shows, TV ...</td>\n",
       "      <td>In a city of coaching centers known to train I...</td>\n",
       "    </tr>\n",
       "  </tbody>\n",
       "</table>\n",
       "</div>"
      ],
      "text/plain": [
       "  show_id     type                  title         director  \\\n",
       "0      s1    Movie   Dick Johnson Is Dead  Kirsten Johnson   \n",
       "1      s2  TV Show          Blood & Water              NaN   \n",
       "2      s3  TV Show              Ganglands  Julien Leclercq   \n",
       "3      s4  TV Show  Jailbirds New Orleans              NaN   \n",
       "4      s5  TV Show           Kota Factory              NaN   \n",
       "\n",
       "                                                cast        country  \\\n",
       "0                                                NaN  United States   \n",
       "1  Ama Qamata, Khosi Ngema, Gail Mabalane, Thaban...   South Africa   \n",
       "2  Sami Bouajila, Tracy Gotoas, Samuel Jouy, Nabi...            NaN   \n",
       "3                                                NaN            NaN   \n",
       "4  Mayur More, Jitendra Kumar, Ranjan Raj, Alam K...          India   \n",
       "\n",
       "           date_added  release_year rating   duration  \\\n",
       "0  September 25, 2021          2020  PG-13     90 min   \n",
       "1  September 24, 2021          2021  TV-MA  2 Seasons   \n",
       "2  September 24, 2021          2021  TV-MA   1 Season   \n",
       "3  September 24, 2021          2021  TV-MA   1 Season   \n",
       "4  September 24, 2021          2021  TV-MA  2 Seasons   \n",
       "\n",
       "                                           listed_in  \\\n",
       "0                                      Documentaries   \n",
       "1    International TV Shows, TV Dramas, TV Mysteries   \n",
       "2  Crime TV Shows, International TV Shows, TV Act...   \n",
       "3                             Docuseries, Reality TV   \n",
       "4  International TV Shows, Romantic TV Shows, TV ...   \n",
       "\n",
       "                                         description  \n",
       "0  As her father nears the end of his life, filmm...  \n",
       "1  After crossing paths at a party, a Cape Town t...  \n",
       "2  To protect his family from a powerful drug lor...  \n",
       "3  Feuds, flirtations and toilet talk go down amo...  \n",
       "4  In a city of coaching centers known to train I...  "
      ]
     },
     "execution_count": 113,
     "metadata": {},
     "output_type": "execute_result"
    }
   ],
   "source": [
    "df.head()"
   ]
  },
  {
   "cell_type": "code",
   "execution_count": 114,
   "id": "83419b9c",
   "metadata": {},
   "outputs": [
    {
     "name": "stdout",
     "output_type": "stream",
     "text": [
      "<class 'pandas.core.frame.DataFrame'>\n",
      "RangeIndex: 8807 entries, 0 to 8806\n",
      "Data columns (total 12 columns):\n",
      " #   Column        Non-Null Count  Dtype \n",
      "---  ------        --------------  ----- \n",
      " 0   show_id       8807 non-null   object\n",
      " 1   type          8807 non-null   object\n",
      " 2   title         8807 non-null   object\n",
      " 3   director      6173 non-null   object\n",
      " 4   cast          7982 non-null   object\n",
      " 5   country       7976 non-null   object\n",
      " 6   date_added    8797 non-null   object\n",
      " 7   release_year  8807 non-null   int64 \n",
      " 8   rating        8803 non-null   object\n",
      " 9   duration      8804 non-null   object\n",
      " 10  listed_in     8807 non-null   object\n",
      " 11  description   8807 non-null   object\n",
      "dtypes: int64(1), object(11)\n",
      "memory usage: 825.8+ KB\n"
     ]
    }
   ],
   "source": [
    "df.info()"
   ]
  },
  {
   "cell_type": "code",
   "execution_count": 115,
   "id": "7d4205ec",
   "metadata": {},
   "outputs": [
    {
     "data": {
      "text/html": [
       "<div>\n",
       "<style scoped>\n",
       "    .dataframe tbody tr th:only-of-type {\n",
       "        vertical-align: middle;\n",
       "    }\n",
       "\n",
       "    .dataframe tbody tr th {\n",
       "        vertical-align: top;\n",
       "    }\n",
       "\n",
       "    .dataframe thead th {\n",
       "        text-align: right;\n",
       "    }\n",
       "</style>\n",
       "<table border=\"1\" class=\"dataframe\">\n",
       "  <thead>\n",
       "    <tr style=\"text-align: right;\">\n",
       "      <th></th>\n",
       "      <th>release_year</th>\n",
       "    </tr>\n",
       "  </thead>\n",
       "  <tbody>\n",
       "    <tr>\n",
       "      <th>count</th>\n",
       "      <td>8807.000000</td>\n",
       "    </tr>\n",
       "    <tr>\n",
       "      <th>mean</th>\n",
       "      <td>2014.180198</td>\n",
       "    </tr>\n",
       "    <tr>\n",
       "      <th>std</th>\n",
       "      <td>8.819312</td>\n",
       "    </tr>\n",
       "    <tr>\n",
       "      <th>min</th>\n",
       "      <td>1925.000000</td>\n",
       "    </tr>\n",
       "    <tr>\n",
       "      <th>25%</th>\n",
       "      <td>2013.000000</td>\n",
       "    </tr>\n",
       "    <tr>\n",
       "      <th>50%</th>\n",
       "      <td>2017.000000</td>\n",
       "    </tr>\n",
       "    <tr>\n",
       "      <th>75%</th>\n",
       "      <td>2019.000000</td>\n",
       "    </tr>\n",
       "    <tr>\n",
       "      <th>max</th>\n",
       "      <td>2021.000000</td>\n",
       "    </tr>\n",
       "  </tbody>\n",
       "</table>\n",
       "</div>"
      ],
      "text/plain": [
       "       release_year\n",
       "count   8807.000000\n",
       "mean    2014.180198\n",
       "std        8.819312\n",
       "min     1925.000000\n",
       "25%     2013.000000\n",
       "50%     2017.000000\n",
       "75%     2019.000000\n",
       "max     2021.000000"
      ]
     },
     "execution_count": 115,
     "metadata": {},
     "output_type": "execute_result"
    }
   ],
   "source": [
    "df.describe()"
   ]
  },
  {
   "cell_type": "code",
   "execution_count": 116,
   "id": "b975862f",
   "metadata": {},
   "outputs": [
    {
     "data": {
      "text/plain": [
       "(8807, 12)"
      ]
     },
     "execution_count": 116,
     "metadata": {},
     "output_type": "execute_result"
    }
   ],
   "source": [
    "df.shape"
   ]
  },
  {
   "cell_type": "markdown",
   "id": "d469edd2",
   "metadata": {},
   "source": [
    "#### Lets Drop show_id and description columns as we dont need them for our analysis"
   ]
  },
  {
   "cell_type": "code",
   "execution_count": 117,
   "id": "54607c49",
   "metadata": {},
   "outputs": [
    {
     "data": {
      "text/html": [
       "<div>\n",
       "<style scoped>\n",
       "    .dataframe tbody tr th:only-of-type {\n",
       "        vertical-align: middle;\n",
       "    }\n",
       "\n",
       "    .dataframe tbody tr th {\n",
       "        vertical-align: top;\n",
       "    }\n",
       "\n",
       "    .dataframe thead th {\n",
       "        text-align: right;\n",
       "    }\n",
       "</style>\n",
       "<table border=\"1\" class=\"dataframe\">\n",
       "  <thead>\n",
       "    <tr style=\"text-align: right;\">\n",
       "      <th></th>\n",
       "      <th>type</th>\n",
       "      <th>title</th>\n",
       "      <th>director</th>\n",
       "      <th>cast</th>\n",
       "      <th>country</th>\n",
       "      <th>date_added</th>\n",
       "      <th>release_year</th>\n",
       "      <th>rating</th>\n",
       "      <th>duration</th>\n",
       "      <th>listed_in</th>\n",
       "    </tr>\n",
       "  </thead>\n",
       "  <tbody>\n",
       "    <tr>\n",
       "      <th>0</th>\n",
       "      <td>Movie</td>\n",
       "      <td>Dick Johnson Is Dead</td>\n",
       "      <td>Kirsten Johnson</td>\n",
       "      <td>NaN</td>\n",
       "      <td>United States</td>\n",
       "      <td>September 25, 2021</td>\n",
       "      <td>2020</td>\n",
       "      <td>PG-13</td>\n",
       "      <td>90 min</td>\n",
       "      <td>Documentaries</td>\n",
       "    </tr>\n",
       "    <tr>\n",
       "      <th>1</th>\n",
       "      <td>TV Show</td>\n",
       "      <td>Blood &amp; Water</td>\n",
       "      <td>NaN</td>\n",
       "      <td>Ama Qamata, Khosi Ngema, Gail Mabalane, Thaban...</td>\n",
       "      <td>South Africa</td>\n",
       "      <td>September 24, 2021</td>\n",
       "      <td>2021</td>\n",
       "      <td>TV-MA</td>\n",
       "      <td>2 Seasons</td>\n",
       "      <td>International TV Shows, TV Dramas, TV Mysteries</td>\n",
       "    </tr>\n",
       "    <tr>\n",
       "      <th>2</th>\n",
       "      <td>TV Show</td>\n",
       "      <td>Ganglands</td>\n",
       "      <td>Julien Leclercq</td>\n",
       "      <td>Sami Bouajila, Tracy Gotoas, Samuel Jouy, Nabi...</td>\n",
       "      <td>NaN</td>\n",
       "      <td>September 24, 2021</td>\n",
       "      <td>2021</td>\n",
       "      <td>TV-MA</td>\n",
       "      <td>1 Season</td>\n",
       "      <td>Crime TV Shows, International TV Shows, TV Act...</td>\n",
       "    </tr>\n",
       "    <tr>\n",
       "      <th>3</th>\n",
       "      <td>TV Show</td>\n",
       "      <td>Jailbirds New Orleans</td>\n",
       "      <td>NaN</td>\n",
       "      <td>NaN</td>\n",
       "      <td>NaN</td>\n",
       "      <td>September 24, 2021</td>\n",
       "      <td>2021</td>\n",
       "      <td>TV-MA</td>\n",
       "      <td>1 Season</td>\n",
       "      <td>Docuseries, Reality TV</td>\n",
       "    </tr>\n",
       "    <tr>\n",
       "      <th>4</th>\n",
       "      <td>TV Show</td>\n",
       "      <td>Kota Factory</td>\n",
       "      <td>NaN</td>\n",
       "      <td>Mayur More, Jitendra Kumar, Ranjan Raj, Alam K...</td>\n",
       "      <td>India</td>\n",
       "      <td>September 24, 2021</td>\n",
       "      <td>2021</td>\n",
       "      <td>TV-MA</td>\n",
       "      <td>2 Seasons</td>\n",
       "      <td>International TV Shows, Romantic TV Shows, TV ...</td>\n",
       "    </tr>\n",
       "  </tbody>\n",
       "</table>\n",
       "</div>"
      ],
      "text/plain": [
       "      type                  title         director  \\\n",
       "0    Movie   Dick Johnson Is Dead  Kirsten Johnson   \n",
       "1  TV Show          Blood & Water              NaN   \n",
       "2  TV Show              Ganglands  Julien Leclercq   \n",
       "3  TV Show  Jailbirds New Orleans              NaN   \n",
       "4  TV Show           Kota Factory              NaN   \n",
       "\n",
       "                                                cast        country  \\\n",
       "0                                                NaN  United States   \n",
       "1  Ama Qamata, Khosi Ngema, Gail Mabalane, Thaban...   South Africa   \n",
       "2  Sami Bouajila, Tracy Gotoas, Samuel Jouy, Nabi...            NaN   \n",
       "3                                                NaN            NaN   \n",
       "4  Mayur More, Jitendra Kumar, Ranjan Raj, Alam K...          India   \n",
       "\n",
       "           date_added  release_year rating   duration  \\\n",
       "0  September 25, 2021          2020  PG-13     90 min   \n",
       "1  September 24, 2021          2021  TV-MA  2 Seasons   \n",
       "2  September 24, 2021          2021  TV-MA   1 Season   \n",
       "3  September 24, 2021          2021  TV-MA   1 Season   \n",
       "4  September 24, 2021          2021  TV-MA  2 Seasons   \n",
       "\n",
       "                                           listed_in  \n",
       "0                                      Documentaries  \n",
       "1    International TV Shows, TV Dramas, TV Mysteries  \n",
       "2  Crime TV Shows, International TV Shows, TV Act...  \n",
       "3                             Docuseries, Reality TV  \n",
       "4  International TV Shows, Romantic TV Shows, TV ...  "
      ]
     },
     "execution_count": 117,
     "metadata": {},
     "output_type": "execute_result"
    }
   ],
   "source": [
    "df.drop(columns=['show_id','description'],inplace=True)\n",
    "df.head()"
   ]
  },
  {
   "cell_type": "markdown",
   "id": "6b4e8e24",
   "metadata": {},
   "source": [
    "#### Remove Min and Season from Duration Columns as we dont need them for our analysis"
   ]
  },
  {
   "cell_type": "code",
   "execution_count": 118,
   "id": "8d155e4d",
   "metadata": {},
   "outputs": [],
   "source": [
    "df['duration']=df['duration'].str.split(' ',expand=True)[0]"
   ]
  },
  {
   "cell_type": "code",
   "execution_count": 119,
   "id": "089ec4bc",
   "metadata": {},
   "outputs": [
    {
     "data": {
      "text/html": [
       "<div>\n",
       "<style scoped>\n",
       "    .dataframe tbody tr th:only-of-type {\n",
       "        vertical-align: middle;\n",
       "    }\n",
       "\n",
       "    .dataframe tbody tr th {\n",
       "        vertical-align: top;\n",
       "    }\n",
       "\n",
       "    .dataframe thead th {\n",
       "        text-align: right;\n",
       "    }\n",
       "</style>\n",
       "<table border=\"1\" class=\"dataframe\">\n",
       "  <thead>\n",
       "    <tr style=\"text-align: right;\">\n",
       "      <th></th>\n",
       "      <th>type</th>\n",
       "      <th>title</th>\n",
       "      <th>director</th>\n",
       "      <th>cast</th>\n",
       "      <th>country</th>\n",
       "      <th>date_added</th>\n",
       "      <th>release_year</th>\n",
       "      <th>rating</th>\n",
       "      <th>duration</th>\n",
       "      <th>listed_in</th>\n",
       "    </tr>\n",
       "  </thead>\n",
       "  <tbody>\n",
       "    <tr>\n",
       "      <th>0</th>\n",
       "      <td>Movie</td>\n",
       "      <td>Dick Johnson Is Dead</td>\n",
       "      <td>Kirsten Johnson</td>\n",
       "      <td>NaN</td>\n",
       "      <td>United States</td>\n",
       "      <td>September 25, 2021</td>\n",
       "      <td>2020</td>\n",
       "      <td>PG-13</td>\n",
       "      <td>90</td>\n",
       "      <td>Documentaries</td>\n",
       "    </tr>\n",
       "    <tr>\n",
       "      <th>1</th>\n",
       "      <td>TV Show</td>\n",
       "      <td>Blood &amp; Water</td>\n",
       "      <td>NaN</td>\n",
       "      <td>Ama Qamata, Khosi Ngema, Gail Mabalane, Thaban...</td>\n",
       "      <td>South Africa</td>\n",
       "      <td>September 24, 2021</td>\n",
       "      <td>2021</td>\n",
       "      <td>TV-MA</td>\n",
       "      <td>2</td>\n",
       "      <td>International TV Shows, TV Dramas, TV Mysteries</td>\n",
       "    </tr>\n",
       "    <tr>\n",
       "      <th>2</th>\n",
       "      <td>TV Show</td>\n",
       "      <td>Ganglands</td>\n",
       "      <td>Julien Leclercq</td>\n",
       "      <td>Sami Bouajila, Tracy Gotoas, Samuel Jouy, Nabi...</td>\n",
       "      <td>NaN</td>\n",
       "      <td>September 24, 2021</td>\n",
       "      <td>2021</td>\n",
       "      <td>TV-MA</td>\n",
       "      <td>1</td>\n",
       "      <td>Crime TV Shows, International TV Shows, TV Act...</td>\n",
       "    </tr>\n",
       "    <tr>\n",
       "      <th>3</th>\n",
       "      <td>TV Show</td>\n",
       "      <td>Jailbirds New Orleans</td>\n",
       "      <td>NaN</td>\n",
       "      <td>NaN</td>\n",
       "      <td>NaN</td>\n",
       "      <td>September 24, 2021</td>\n",
       "      <td>2021</td>\n",
       "      <td>TV-MA</td>\n",
       "      <td>1</td>\n",
       "      <td>Docuseries, Reality TV</td>\n",
       "    </tr>\n",
       "    <tr>\n",
       "      <th>4</th>\n",
       "      <td>TV Show</td>\n",
       "      <td>Kota Factory</td>\n",
       "      <td>NaN</td>\n",
       "      <td>Mayur More, Jitendra Kumar, Ranjan Raj, Alam K...</td>\n",
       "      <td>India</td>\n",
       "      <td>September 24, 2021</td>\n",
       "      <td>2021</td>\n",
       "      <td>TV-MA</td>\n",
       "      <td>2</td>\n",
       "      <td>International TV Shows, Romantic TV Shows, TV ...</td>\n",
       "    </tr>\n",
       "  </tbody>\n",
       "</table>\n",
       "</div>"
      ],
      "text/plain": [
       "      type                  title         director  \\\n",
       "0    Movie   Dick Johnson Is Dead  Kirsten Johnson   \n",
       "1  TV Show          Blood & Water              NaN   \n",
       "2  TV Show              Ganglands  Julien Leclercq   \n",
       "3  TV Show  Jailbirds New Orleans              NaN   \n",
       "4  TV Show           Kota Factory              NaN   \n",
       "\n",
       "                                                cast        country  \\\n",
       "0                                                NaN  United States   \n",
       "1  Ama Qamata, Khosi Ngema, Gail Mabalane, Thaban...   South Africa   \n",
       "2  Sami Bouajila, Tracy Gotoas, Samuel Jouy, Nabi...            NaN   \n",
       "3                                                NaN            NaN   \n",
       "4  Mayur More, Jitendra Kumar, Ranjan Raj, Alam K...          India   \n",
       "\n",
       "           date_added  release_year rating duration  \\\n",
       "0  September 25, 2021          2020  PG-13       90   \n",
       "1  September 24, 2021          2021  TV-MA        2   \n",
       "2  September 24, 2021          2021  TV-MA        1   \n",
       "3  September 24, 2021          2021  TV-MA        1   \n",
       "4  September 24, 2021          2021  TV-MA        2   \n",
       "\n",
       "                                           listed_in  \n",
       "0                                      Documentaries  \n",
       "1    International TV Shows, TV Dramas, TV Mysteries  \n",
       "2  Crime TV Shows, International TV Shows, TV Act...  \n",
       "3                             Docuseries, Reality TV  \n",
       "4  International TV Shows, Romantic TV Shows, TV ...  "
      ]
     },
     "execution_count": 119,
     "metadata": {},
     "output_type": "execute_result"
    }
   ],
   "source": [
    "df.head()"
   ]
  },
  {
   "cell_type": "markdown",
   "id": "318d43f7",
   "metadata": {},
   "source": [
    "### Treating Missing Value"
   ]
  },
  {
   "cell_type": "code",
   "execution_count": 120,
   "id": "282edbbf",
   "metadata": {},
   "outputs": [
    {
     "data": {
      "text/plain": [
       "type               0\n",
       "title              0\n",
       "director        2634\n",
       "cast             825\n",
       "country          831\n",
       "date_added        10\n",
       "release_year       0\n",
       "rating             4\n",
       "duration           3\n",
       "listed_in          0\n",
       "dtype: int64"
      ]
     },
     "execution_count": 120,
     "metadata": {},
     "output_type": "execute_result"
    }
   ],
   "source": [
    "df.isna().sum()"
   ]
  },
  {
   "cell_type": "markdown",
   "id": "10ee9299",
   "metadata": {},
   "source": [
    "1.rating-For Rating column we can calculate mean of rating for that listed_in and cast and director columns\n",
    "2.duration-mean based on type\n",
    "3.date-mode of month and date and for year use release year column\n",
    "4.country-for country we can use director name to filter out country\n",
    "5.cast-use director and type to filter\n",
    "6.director-mode of director filtering by listed_in "
   ]
  },
  {
   "cell_type": "code",
   "execution_count": 121,
   "id": "346aeefd",
   "metadata": {},
   "outputs": [],
   "source": [
    "df['duration']=df['duration'].astype('Int64')"
   ]
  },
  {
   "cell_type": "code",
   "execution_count": 122,
   "id": "e477d86e",
   "metadata": {},
   "outputs": [],
   "source": [
    "def func(x,TVshow_duration_value,movie_duration_value):\n",
    "    if pd.isna(x['duration']):\n",
    "        if x['type']=='Movie':\n",
    "            return movie_duration_value\n",
    "        else:\n",
    "            return TVshow_duration_value\n",
    "    return x"
   ]
  },
  {
   "cell_type": "code",
   "execution_count": 123,
   "id": "c2420738",
   "metadata": {},
   "outputs": [
    {
     "data": {
      "text/plain": [
       "100"
      ]
     },
     "execution_count": 123,
     "metadata": {},
     "output_type": "execute_result"
    }
   ],
   "source": [
    "movie_duration_value=math.ceil(df.groupby('type')['duration'].aggregate('mean')[0])\n",
    "movie_duration_value"
   ]
  },
  {
   "cell_type": "code",
   "execution_count": 124,
   "id": "01dd2150",
   "metadata": {},
   "outputs": [
    {
     "data": {
      "text/plain": [
       "2"
      ]
     },
     "execution_count": 124,
     "metadata": {},
     "output_type": "execute_result"
    }
   ],
   "source": [
    "TVshow_duration_value=math.ceil(df.groupby('type')['duration'].aggregate('mean')[1])\n",
    "TVshow_duration_value"
   ]
  },
  {
   "cell_type": "code",
   "execution_count": 125,
   "id": "b068bfe8",
   "metadata": {},
   "outputs": [],
   "source": [
    "df=df.apply(func,args=[TVshow_duration_value,movie_duration_value],axis=1)"
   ]
  },
  {
   "cell_type": "markdown",
   "id": "2b1b9278",
   "metadata": {},
   "source": [
    "#### Replacing null value in rating column with mode"
   ]
  },
  {
   "cell_type": "code",
   "execution_count": 126,
   "id": "705338ed",
   "metadata": {},
   "outputs": [
    {
     "data": {
      "text/html": [
       "<div>\n",
       "<style scoped>\n",
       "    .dataframe tbody tr th:only-of-type {\n",
       "        vertical-align: middle;\n",
       "    }\n",
       "\n",
       "    .dataframe tbody tr th {\n",
       "        vertical-align: top;\n",
       "    }\n",
       "\n",
       "    .dataframe thead th {\n",
       "        text-align: right;\n",
       "    }\n",
       "</style>\n",
       "<table border=\"1\" class=\"dataframe\">\n",
       "  <thead>\n",
       "    <tr style=\"text-align: right;\">\n",
       "      <th></th>\n",
       "      <th>type</th>\n",
       "      <th>title</th>\n",
       "      <th>director</th>\n",
       "      <th>cast</th>\n",
       "      <th>country</th>\n",
       "      <th>date_added</th>\n",
       "      <th>release_year</th>\n",
       "      <th>rating</th>\n",
       "      <th>duration</th>\n",
       "      <th>listed_in</th>\n",
       "    </tr>\n",
       "  </thead>\n",
       "  <tbody>\n",
       "    <tr>\n",
       "      <th>5989</th>\n",
       "      <td>Movie</td>\n",
       "      <td>13TH: A Conversation with Oprah Winfrey &amp; Ava ...</td>\n",
       "      <td>NaN</td>\n",
       "      <td>Oprah Winfrey, Ava DuVernay</td>\n",
       "      <td>NaN</td>\n",
       "      <td>January 26, 2017</td>\n",
       "      <td>2017</td>\n",
       "      <td>NaN</td>\n",
       "      <td>37</td>\n",
       "      <td>Movies</td>\n",
       "    </tr>\n",
       "    <tr>\n",
       "      <th>6827</th>\n",
       "      <td>TV Show</td>\n",
       "      <td>Gargantia on the Verdurous Planet</td>\n",
       "      <td>NaN</td>\n",
       "      <td>Kaito Ishikawa, Hisako Kanemoto, Ai Kayano, Ka...</td>\n",
       "      <td>Japan</td>\n",
       "      <td>December 1, 2016</td>\n",
       "      <td>2013</td>\n",
       "      <td>NaN</td>\n",
       "      <td>1</td>\n",
       "      <td>Anime Series, International TV Shows</td>\n",
       "    </tr>\n",
       "    <tr>\n",
       "      <th>7312</th>\n",
       "      <td>TV Show</td>\n",
       "      <td>Little Lunch</td>\n",
       "      <td>NaN</td>\n",
       "      <td>Flynn Curry, Olivia Deeble, Madison Lu, Oisín ...</td>\n",
       "      <td>Australia</td>\n",
       "      <td>February 1, 2018</td>\n",
       "      <td>2015</td>\n",
       "      <td>NaN</td>\n",
       "      <td>1</td>\n",
       "      <td>Kids' TV, TV Comedies</td>\n",
       "    </tr>\n",
       "    <tr>\n",
       "      <th>7537</th>\n",
       "      <td>Movie</td>\n",
       "      <td>My Honor Was Loyalty</td>\n",
       "      <td>Alessandro Pepe</td>\n",
       "      <td>Leone Frisa, Paolo Vaccarino, Francesco Miglio...</td>\n",
       "      <td>Italy</td>\n",
       "      <td>March 1, 2017</td>\n",
       "      <td>2015</td>\n",
       "      <td>NaN</td>\n",
       "      <td>115</td>\n",
       "      <td>Dramas</td>\n",
       "    </tr>\n",
       "  </tbody>\n",
       "</table>\n",
       "</div>"
      ],
      "text/plain": [
       "         type                                              title  \\\n",
       "5989    Movie  13TH: A Conversation with Oprah Winfrey & Ava ...   \n",
       "6827  TV Show                  Gargantia on the Verdurous Planet   \n",
       "7312  TV Show                                       Little Lunch   \n",
       "7537    Movie                               My Honor Was Loyalty   \n",
       "\n",
       "             director                                               cast  \\\n",
       "5989              NaN                        Oprah Winfrey, Ava DuVernay   \n",
       "6827              NaN  Kaito Ishikawa, Hisako Kanemoto, Ai Kayano, Ka...   \n",
       "7312              NaN  Flynn Curry, Olivia Deeble, Madison Lu, Oisín ...   \n",
       "7537  Alessandro Pepe  Leone Frisa, Paolo Vaccarino, Francesco Miglio...   \n",
       "\n",
       "        country        date_added  release_year rating  duration  \\\n",
       "5989        NaN  January 26, 2017          2017    NaN        37   \n",
       "6827      Japan  December 1, 2016          2013    NaN         1   \n",
       "7312  Australia  February 1, 2018          2015    NaN         1   \n",
       "7537      Italy     March 1, 2017          2015    NaN       115   \n",
       "\n",
       "                                 listed_in  \n",
       "5989                                Movies  \n",
       "6827  Anime Series, International TV Shows  \n",
       "7312                 Kids' TV, TV Comedies  \n",
       "7537                                Dramas  "
      ]
     },
     "execution_count": 126,
     "metadata": {},
     "output_type": "execute_result"
    }
   ],
   "source": [
    "df[df['rating'].isna()]   "
   ]
  },
  {
   "cell_type": "code",
   "execution_count": 127,
   "id": "c2704063",
   "metadata": {},
   "outputs": [],
   "source": [
    "#Director is also not present where rating is null so we will replace Null value in Rating column with Mode"
   ]
  },
  {
   "cell_type": "code",
   "execution_count": 128,
   "id": "42dc9b6e",
   "metadata": {},
   "outputs": [],
   "source": [
    "df['rating'].fillna(df['rating'].mode()[0], inplace = True)"
   ]
  },
  {
   "cell_type": "code",
   "execution_count": 129,
   "id": "667a707e",
   "metadata": {},
   "outputs": [
    {
     "data": {
      "text/plain": [
       "0"
      ]
     },
     "execution_count": 129,
     "metadata": {},
     "output_type": "execute_result"
    }
   ],
   "source": [
    "df['rating'].isna().sum()"
   ]
  },
  {
   "cell_type": "markdown",
   "id": "5926ce88",
   "metadata": {},
   "source": [
    "#### converting Date to correct format"
   ]
  },
  {
   "cell_type": "code",
   "execution_count": 130,
   "id": "a15930c0",
   "metadata": {},
   "outputs": [
    {
     "data": {
      "text/html": [
       "<div>\n",
       "<style scoped>\n",
       "    .dataframe tbody tr th:only-of-type {\n",
       "        vertical-align: middle;\n",
       "    }\n",
       "\n",
       "    .dataframe tbody tr th {\n",
       "        vertical-align: top;\n",
       "    }\n",
       "\n",
       "    .dataframe thead th {\n",
       "        text-align: right;\n",
       "    }\n",
       "</style>\n",
       "<table border=\"1\" class=\"dataframe\">\n",
       "  <thead>\n",
       "    <tr style=\"text-align: right;\">\n",
       "      <th></th>\n",
       "      <th>type</th>\n",
       "      <th>title</th>\n",
       "      <th>director</th>\n",
       "      <th>cast</th>\n",
       "      <th>country</th>\n",
       "      <th>date_added</th>\n",
       "      <th>release_year</th>\n",
       "      <th>rating</th>\n",
       "      <th>duration</th>\n",
       "      <th>listed_in</th>\n",
       "    </tr>\n",
       "  </thead>\n",
       "  <tbody>\n",
       "    <tr>\n",
       "      <th>0</th>\n",
       "      <td>Movie</td>\n",
       "      <td>Dick Johnson Is Dead</td>\n",
       "      <td>Kirsten Johnson</td>\n",
       "      <td>NaN</td>\n",
       "      <td>United States</td>\n",
       "      <td>September 25, 2021</td>\n",
       "      <td>2020</td>\n",
       "      <td>PG-13</td>\n",
       "      <td>90</td>\n",
       "      <td>Documentaries</td>\n",
       "    </tr>\n",
       "    <tr>\n",
       "      <th>1</th>\n",
       "      <td>TV Show</td>\n",
       "      <td>Blood &amp; Water</td>\n",
       "      <td>NaN</td>\n",
       "      <td>Ama Qamata, Khosi Ngema, Gail Mabalane, Thaban...</td>\n",
       "      <td>South Africa</td>\n",
       "      <td>September 24, 2021</td>\n",
       "      <td>2021</td>\n",
       "      <td>TV-MA</td>\n",
       "      <td>2</td>\n",
       "      <td>International TV Shows, TV Dramas, TV Mysteries</td>\n",
       "    </tr>\n",
       "    <tr>\n",
       "      <th>2</th>\n",
       "      <td>TV Show</td>\n",
       "      <td>Ganglands</td>\n",
       "      <td>Julien Leclercq</td>\n",
       "      <td>Sami Bouajila, Tracy Gotoas, Samuel Jouy, Nabi...</td>\n",
       "      <td>NaN</td>\n",
       "      <td>September 24, 2021</td>\n",
       "      <td>2021</td>\n",
       "      <td>TV-MA</td>\n",
       "      <td>1</td>\n",
       "      <td>Crime TV Shows, International TV Shows, TV Act...</td>\n",
       "    </tr>\n",
       "    <tr>\n",
       "      <th>3</th>\n",
       "      <td>TV Show</td>\n",
       "      <td>Jailbirds New Orleans</td>\n",
       "      <td>NaN</td>\n",
       "      <td>NaN</td>\n",
       "      <td>NaN</td>\n",
       "      <td>September 24, 2021</td>\n",
       "      <td>2021</td>\n",
       "      <td>TV-MA</td>\n",
       "      <td>1</td>\n",
       "      <td>Docuseries, Reality TV</td>\n",
       "    </tr>\n",
       "    <tr>\n",
       "      <th>4</th>\n",
       "      <td>TV Show</td>\n",
       "      <td>Kota Factory</td>\n",
       "      <td>NaN</td>\n",
       "      <td>Mayur More, Jitendra Kumar, Ranjan Raj, Alam K...</td>\n",
       "      <td>India</td>\n",
       "      <td>September 24, 2021</td>\n",
       "      <td>2021</td>\n",
       "      <td>TV-MA</td>\n",
       "      <td>2</td>\n",
       "      <td>International TV Shows, Romantic TV Shows, TV ...</td>\n",
       "    </tr>\n",
       "  </tbody>\n",
       "</table>\n",
       "</div>"
      ],
      "text/plain": [
       "      type                  title         director  \\\n",
       "0    Movie   Dick Johnson Is Dead  Kirsten Johnson   \n",
       "1  TV Show          Blood & Water              NaN   \n",
       "2  TV Show              Ganglands  Julien Leclercq   \n",
       "3  TV Show  Jailbirds New Orleans              NaN   \n",
       "4  TV Show           Kota Factory              NaN   \n",
       "\n",
       "                                                cast        country  \\\n",
       "0                                                NaN  United States   \n",
       "1  Ama Qamata, Khosi Ngema, Gail Mabalane, Thaban...   South Africa   \n",
       "2  Sami Bouajila, Tracy Gotoas, Samuel Jouy, Nabi...            NaN   \n",
       "3                                                NaN            NaN   \n",
       "4  Mayur More, Jitendra Kumar, Ranjan Raj, Alam K...          India   \n",
       "\n",
       "           date_added  release_year rating  duration  \\\n",
       "0  September 25, 2021          2020  PG-13        90   \n",
       "1  September 24, 2021          2021  TV-MA         2   \n",
       "2  September 24, 2021          2021  TV-MA         1   \n",
       "3  September 24, 2021          2021  TV-MA         1   \n",
       "4  September 24, 2021          2021  TV-MA         2   \n",
       "\n",
       "                                           listed_in  \n",
       "0                                      Documentaries  \n",
       "1    International TV Shows, TV Dramas, TV Mysteries  \n",
       "2  Crime TV Shows, International TV Shows, TV Act...  \n",
       "3                             Docuseries, Reality TV  \n",
       "4  International TV Shows, Romantic TV Shows, TV ...  "
      ]
     },
     "execution_count": 130,
     "metadata": {},
     "output_type": "execute_result"
    }
   ],
   "source": [
    "df.head()"
   ]
  },
  {
   "cell_type": "code",
   "execution_count": 131,
   "id": "0ca406a0",
   "metadata": {},
   "outputs": [],
   "source": [
    "temp={'January':'01','December':'12','September':'09','April':'04','February':'02',\n",
    "      'June':'06','October':'10','May':'05','August':'08','March':'03','July':'7','November':'11'}"
   ]
  },
  {
   "cell_type": "code",
   "execution_count": 132,
   "id": "6ee11c5f",
   "metadata": {},
   "outputs": [],
   "source": [
    "def func1(x):\n",
    "    try:\n",
    "        return pd.to_datetime(x.split(', ')[1]+'-'+str(temp[x.split(', ')[0].split(' ')[0]])+'-'+x.split(', ')[0].split(' ')[1])\n",
    "    except:\n",
    "        return None"
   ]
  },
  {
   "cell_type": "code",
   "execution_count": 133,
   "id": "88924dff",
   "metadata": {},
   "outputs": [],
   "source": [
    "df['date']=df.date_added.apply(func1)"
   ]
  },
  {
   "cell_type": "code",
   "execution_count": 134,
   "id": "7b97a205",
   "metadata": {},
   "outputs": [],
   "source": [
    "df['date']=df.date.fillna(df.date.mode()[0])"
   ]
  },
  {
   "cell_type": "code",
   "execution_count": 135,
   "id": "7e8606bd",
   "metadata": {},
   "outputs": [
    {
     "data": {
      "text/plain": [
       "0"
      ]
     },
     "execution_count": 135,
     "metadata": {},
     "output_type": "execute_result"
    }
   ],
   "source": [
    "df.date.isna().sum()"
   ]
  },
  {
   "cell_type": "code",
   "execution_count": 136,
   "id": "66394835",
   "metadata": {},
   "outputs": [],
   "source": [
    "df.drop(columns='date_added',inplace=True)"
   ]
  },
  {
   "cell_type": "code",
   "execution_count": 137,
   "id": "1828732a",
   "metadata": {},
   "outputs": [
    {
     "data": {
      "text/html": [
       "<div>\n",
       "<style scoped>\n",
       "    .dataframe tbody tr th:only-of-type {\n",
       "        vertical-align: middle;\n",
       "    }\n",
       "\n",
       "    .dataframe tbody tr th {\n",
       "        vertical-align: top;\n",
       "    }\n",
       "\n",
       "    .dataframe thead th {\n",
       "        text-align: right;\n",
       "    }\n",
       "</style>\n",
       "<table border=\"1\" class=\"dataframe\">\n",
       "  <thead>\n",
       "    <tr style=\"text-align: right;\">\n",
       "      <th></th>\n",
       "      <th>type</th>\n",
       "      <th>title</th>\n",
       "      <th>director</th>\n",
       "      <th>cast</th>\n",
       "      <th>country</th>\n",
       "      <th>release_year</th>\n",
       "      <th>rating</th>\n",
       "      <th>duration</th>\n",
       "      <th>listed_in</th>\n",
       "      <th>date</th>\n",
       "    </tr>\n",
       "  </thead>\n",
       "  <tbody>\n",
       "    <tr>\n",
       "      <th>0</th>\n",
       "      <td>Movie</td>\n",
       "      <td>Dick Johnson Is Dead</td>\n",
       "      <td>Kirsten Johnson</td>\n",
       "      <td>NaN</td>\n",
       "      <td>United States</td>\n",
       "      <td>2020</td>\n",
       "      <td>PG-13</td>\n",
       "      <td>90</td>\n",
       "      <td>Documentaries</td>\n",
       "      <td>2021-09-25</td>\n",
       "    </tr>\n",
       "    <tr>\n",
       "      <th>1</th>\n",
       "      <td>TV Show</td>\n",
       "      <td>Blood &amp; Water</td>\n",
       "      <td>NaN</td>\n",
       "      <td>Ama Qamata, Khosi Ngema, Gail Mabalane, Thaban...</td>\n",
       "      <td>South Africa</td>\n",
       "      <td>2021</td>\n",
       "      <td>TV-MA</td>\n",
       "      <td>2</td>\n",
       "      <td>International TV Shows, TV Dramas, TV Mysteries</td>\n",
       "      <td>2021-09-24</td>\n",
       "    </tr>\n",
       "    <tr>\n",
       "      <th>2</th>\n",
       "      <td>TV Show</td>\n",
       "      <td>Ganglands</td>\n",
       "      <td>Julien Leclercq</td>\n",
       "      <td>Sami Bouajila, Tracy Gotoas, Samuel Jouy, Nabi...</td>\n",
       "      <td>NaN</td>\n",
       "      <td>2021</td>\n",
       "      <td>TV-MA</td>\n",
       "      <td>1</td>\n",
       "      <td>Crime TV Shows, International TV Shows, TV Act...</td>\n",
       "      <td>2021-09-24</td>\n",
       "    </tr>\n",
       "    <tr>\n",
       "      <th>3</th>\n",
       "      <td>TV Show</td>\n",
       "      <td>Jailbirds New Orleans</td>\n",
       "      <td>NaN</td>\n",
       "      <td>NaN</td>\n",
       "      <td>NaN</td>\n",
       "      <td>2021</td>\n",
       "      <td>TV-MA</td>\n",
       "      <td>1</td>\n",
       "      <td>Docuseries, Reality TV</td>\n",
       "      <td>2021-09-24</td>\n",
       "    </tr>\n",
       "    <tr>\n",
       "      <th>4</th>\n",
       "      <td>TV Show</td>\n",
       "      <td>Kota Factory</td>\n",
       "      <td>NaN</td>\n",
       "      <td>Mayur More, Jitendra Kumar, Ranjan Raj, Alam K...</td>\n",
       "      <td>India</td>\n",
       "      <td>2021</td>\n",
       "      <td>TV-MA</td>\n",
       "      <td>2</td>\n",
       "      <td>International TV Shows, Romantic TV Shows, TV ...</td>\n",
       "      <td>2021-09-24</td>\n",
       "    </tr>\n",
       "  </tbody>\n",
       "</table>\n",
       "</div>"
      ],
      "text/plain": [
       "      type                  title         director  \\\n",
       "0    Movie   Dick Johnson Is Dead  Kirsten Johnson   \n",
       "1  TV Show          Blood & Water              NaN   \n",
       "2  TV Show              Ganglands  Julien Leclercq   \n",
       "3  TV Show  Jailbirds New Orleans              NaN   \n",
       "4  TV Show           Kota Factory              NaN   \n",
       "\n",
       "                                                cast        country  \\\n",
       "0                                                NaN  United States   \n",
       "1  Ama Qamata, Khosi Ngema, Gail Mabalane, Thaban...   South Africa   \n",
       "2  Sami Bouajila, Tracy Gotoas, Samuel Jouy, Nabi...            NaN   \n",
       "3                                                NaN            NaN   \n",
       "4  Mayur More, Jitendra Kumar, Ranjan Raj, Alam K...          India   \n",
       "\n",
       "   release_year rating  duration  \\\n",
       "0          2020  PG-13        90   \n",
       "1          2021  TV-MA         2   \n",
       "2          2021  TV-MA         1   \n",
       "3          2021  TV-MA         1   \n",
       "4          2021  TV-MA         2   \n",
       "\n",
       "                                           listed_in       date  \n",
       "0                                      Documentaries 2021-09-25  \n",
       "1    International TV Shows, TV Dramas, TV Mysteries 2021-09-24  \n",
       "2  Crime TV Shows, International TV Shows, TV Act... 2021-09-24  \n",
       "3                             Docuseries, Reality TV 2021-09-24  \n",
       "4  International TV Shows, Romantic TV Shows, TV ... 2021-09-24  "
      ]
     },
     "execution_count": 137,
     "metadata": {},
     "output_type": "execute_result"
    }
   ],
   "source": [
    "df.head()"
   ]
  },
  {
   "cell_type": "markdown",
   "id": "586162b4",
   "metadata": {},
   "source": [
    "#### unnesting director for each title"
   ]
  },
  {
   "cell_type": "code",
   "execution_count": 138,
   "id": "0e334e39",
   "metadata": {},
   "outputs": [],
   "source": [
    "df_td=df[['title','director']]\n",
    "df1=df_td['director'].str.split(',',expand=True).reset_index()\n",
    "df_td=df_td.reset_index()\n",
    "df_td=df_td.merge(df1,on='index')\n",
    "df_td=pd.melt(frame=df_td,id_vars =['index','title','director'])\n",
    "df_td.drop('variable',axis=1,inplace=True)"
   ]
  },
  {
   "cell_type": "code",
   "execution_count": 139,
   "id": "34c6777a",
   "metadata": {},
   "outputs": [],
   "source": [
    "def func(x):\n",
    "    if x['value'].isna().sum()==13:\n",
    "        x=x.drop_duplicates()\n",
    "    else:\n",
    "        x=x[~x['value'].isna()]\n",
    "    return x"
   ]
  },
  {
   "cell_type": "code",
   "execution_count": 140,
   "id": "a7eec10f",
   "metadata": {},
   "outputs": [
    {
     "data": {
      "text/html": [
       "<div>\n",
       "<style scoped>\n",
       "    .dataframe tbody tr th:only-of-type {\n",
       "        vertical-align: middle;\n",
       "    }\n",
       "\n",
       "    .dataframe tbody tr th {\n",
       "        vertical-align: top;\n",
       "    }\n",
       "\n",
       "    .dataframe thead th {\n",
       "        text-align: right;\n",
       "    }\n",
       "</style>\n",
       "<table border=\"1\" class=\"dataframe\">\n",
       "  <thead>\n",
       "    <tr style=\"text-align: right;\">\n",
       "      <th></th>\n",
       "      <th>index</th>\n",
       "      <th>title</th>\n",
       "      <th>directors</th>\n",
       "    </tr>\n",
       "  </thead>\n",
       "  <tbody>\n",
       "    <tr>\n",
       "      <th>0</th>\n",
       "      <td>2036</td>\n",
       "      <td>#Alive</td>\n",
       "      <td>Cho Il</td>\n",
       "    </tr>\n",
       "    <tr>\n",
       "      <th>1</th>\n",
       "      <td>2304</td>\n",
       "      <td>#AnneFrank - Parallel Stories</td>\n",
       "      <td>Sabina Fedeli</td>\n",
       "    </tr>\n",
       "    <tr>\n",
       "      <th>2</th>\n",
       "      <td>2304</td>\n",
       "      <td>#AnneFrank - Parallel Stories</td>\n",
       "      <td>Anna Migotto</td>\n",
       "    </tr>\n",
       "    <tr>\n",
       "      <th>3</th>\n",
       "      <td>2481</td>\n",
       "      <td>#FriendButMarried</td>\n",
       "      <td>Rako Prijanto</td>\n",
       "    </tr>\n",
       "    <tr>\n",
       "      <th>4</th>\n",
       "      <td>2324</td>\n",
       "      <td>#FriendButMarried 2</td>\n",
       "      <td>Rako Prijanto</td>\n",
       "    </tr>\n",
       "    <tr>\n",
       "      <th>...</th>\n",
       "      <td>...</td>\n",
       "      <td>...</td>\n",
       "      <td>...</td>\n",
       "    </tr>\n",
       "    <tr>\n",
       "      <th>9604</th>\n",
       "      <td>6177</td>\n",
       "      <td>忍者ハットリくん</td>\n",
       "      <td>NaN</td>\n",
       "    </tr>\n",
       "    <tr>\n",
       "      <th>9605</th>\n",
       "      <td>4914</td>\n",
       "      <td>海的儿子</td>\n",
       "      <td>NaN</td>\n",
       "    </tr>\n",
       "    <tr>\n",
       "      <th>9606</th>\n",
       "      <td>7101</td>\n",
       "      <td>마녀사냥</td>\n",
       "      <td>NaN</td>\n",
       "    </tr>\n",
       "    <tr>\n",
       "      <th>9607</th>\n",
       "      <td>5022</td>\n",
       "      <td>반드시 잡는다</td>\n",
       "      <td>Hong-seon Kim</td>\n",
       "    </tr>\n",
       "    <tr>\n",
       "      <th>9608</th>\n",
       "      <td>7108</td>\n",
       "      <td>최강전사 미니특공대 : 영웅의 탄생</td>\n",
       "      <td>Young Jun Lee</td>\n",
       "    </tr>\n",
       "  </tbody>\n",
       "</table>\n",
       "<p>9609 rows × 3 columns</p>\n",
       "</div>"
      ],
      "text/plain": [
       "      index                          title      directors\n",
       "0      2036                         #Alive         Cho Il\n",
       "1      2304  #AnneFrank - Parallel Stories  Sabina Fedeli\n",
       "2      2304  #AnneFrank - Parallel Stories   Anna Migotto\n",
       "3      2481              #FriendButMarried  Rako Prijanto\n",
       "4      2324            #FriendButMarried 2  Rako Prijanto\n",
       "...     ...                            ...            ...\n",
       "9604   6177                       忍者ハットリくん            NaN\n",
       "9605   4914                           海的儿子            NaN\n",
       "9606   7101                           마녀사냥            NaN\n",
       "9607   5022                        반드시 잡는다  Hong-seon Kim\n",
       "9608   7108            최강전사 미니특공대 : 영웅의 탄생  Young Jun Lee\n",
       "\n",
       "[9609 rows x 3 columns]"
      ]
     },
     "execution_count": 140,
     "metadata": {},
     "output_type": "execute_result"
    }
   ],
   "source": [
    "df_td=df_td.groupby('title').apply(func)\n",
    "df_td.drop('director',axis=1,inplace=True)\n",
    "df_td=df_td.reset_index(drop=True)\n",
    "df_td.columns=['index','title','directors']\n",
    "df_td"
   ]
  },
  {
   "cell_type": "markdown",
   "id": "45444b3b",
   "metadata": {},
   "source": [
    "#### unnesting Genre for each title"
   ]
  },
  {
   "cell_type": "code",
   "execution_count": 141,
   "id": "8ef2d566",
   "metadata": {},
   "outputs": [],
   "source": [
    "df_tg=df[['title','listed_in']]\n",
    "df1=df_tg['listed_in'].str.split(',',expand=True).reset_index()\n",
    "df_tg=df_tg.reset_index()\n",
    "df_tg=df_tg.merge(df1,on='index')\n",
    "df_tg=pd.melt(frame=df_tg,id_vars =['index','title','listed_in'])\n",
    "df_tg.drop('variable',axis=1,inplace=True)"
   ]
  },
  {
   "cell_type": "code",
   "execution_count": 142,
   "id": "4babcbad",
   "metadata": {},
   "outputs": [],
   "source": [
    "def func(x):\n",
    "    if x['value'].isna().sum()==3:\n",
    "        x=x.drop_duplicates()\n",
    "    else:\n",
    "        x=x[~x['value'].isna()]\n",
    "    return x"
   ]
  },
  {
   "cell_type": "code",
   "execution_count": 143,
   "id": "ee00badc",
   "metadata": {},
   "outputs": [
    {
     "data": {
      "text/html": [
       "<div>\n",
       "<style scoped>\n",
       "    .dataframe tbody tr th:only-of-type {\n",
       "        vertical-align: middle;\n",
       "    }\n",
       "\n",
       "    .dataframe tbody tr th {\n",
       "        vertical-align: top;\n",
       "    }\n",
       "\n",
       "    .dataframe thead th {\n",
       "        text-align: right;\n",
       "    }\n",
       "</style>\n",
       "<table border=\"1\" class=\"dataframe\">\n",
       "  <thead>\n",
       "    <tr style=\"text-align: right;\">\n",
       "      <th></th>\n",
       "      <th>index</th>\n",
       "      <th>title</th>\n",
       "      <th>genres</th>\n",
       "    </tr>\n",
       "  </thead>\n",
       "  <tbody>\n",
       "    <tr>\n",
       "      <th>0</th>\n",
       "      <td>2036</td>\n",
       "      <td>#Alive</td>\n",
       "      <td>Horror Movies</td>\n",
       "    </tr>\n",
       "    <tr>\n",
       "      <th>1</th>\n",
       "      <td>2036</td>\n",
       "      <td>#Alive</td>\n",
       "      <td>International Movies</td>\n",
       "    </tr>\n",
       "    <tr>\n",
       "      <th>2</th>\n",
       "      <td>2036</td>\n",
       "      <td>#Alive</td>\n",
       "      <td>Thrillers</td>\n",
       "    </tr>\n",
       "    <tr>\n",
       "      <th>3</th>\n",
       "      <td>2304</td>\n",
       "      <td>#AnneFrank - Parallel Stories</td>\n",
       "      <td>Documentaries</td>\n",
       "    </tr>\n",
       "    <tr>\n",
       "      <th>4</th>\n",
       "      <td>2304</td>\n",
       "      <td>#AnneFrank - Parallel Stories</td>\n",
       "      <td>International Movies</td>\n",
       "    </tr>\n",
       "    <tr>\n",
       "      <th>...</th>\n",
       "      <td>...</td>\n",
       "      <td>...</td>\n",
       "      <td>...</td>\n",
       "    </tr>\n",
       "    <tr>\n",
       "      <th>19315</th>\n",
       "      <td>7101</td>\n",
       "      <td>마녀사냥</td>\n",
       "      <td>Stand-Up Comedy &amp; Talk Shows</td>\n",
       "    </tr>\n",
       "    <tr>\n",
       "      <th>19316</th>\n",
       "      <td>5022</td>\n",
       "      <td>반드시 잡는다</td>\n",
       "      <td>Dramas</td>\n",
       "    </tr>\n",
       "    <tr>\n",
       "      <th>19317</th>\n",
       "      <td>5022</td>\n",
       "      <td>반드시 잡는다</td>\n",
       "      <td>International Movies</td>\n",
       "    </tr>\n",
       "    <tr>\n",
       "      <th>19318</th>\n",
       "      <td>5022</td>\n",
       "      <td>반드시 잡는다</td>\n",
       "      <td>Thrillers</td>\n",
       "    </tr>\n",
       "    <tr>\n",
       "      <th>19319</th>\n",
       "      <td>7108</td>\n",
       "      <td>최강전사 미니특공대 : 영웅의 탄생</td>\n",
       "      <td>Children &amp; Family Movies</td>\n",
       "    </tr>\n",
       "  </tbody>\n",
       "</table>\n",
       "<p>19320 rows × 3 columns</p>\n",
       "</div>"
      ],
      "text/plain": [
       "       index                          title                         genres\n",
       "0       2036                         #Alive                  Horror Movies\n",
       "1       2036                         #Alive           International Movies\n",
       "2       2036                         #Alive                      Thrillers\n",
       "3       2304  #AnneFrank - Parallel Stories                  Documentaries\n",
       "4       2304  #AnneFrank - Parallel Stories           International Movies\n",
       "...      ...                            ...                            ...\n",
       "19315   7101                           마녀사냥   Stand-Up Comedy & Talk Shows\n",
       "19316   5022                        반드시 잡는다                         Dramas\n",
       "19317   5022                        반드시 잡는다           International Movies\n",
       "19318   5022                        반드시 잡는다                      Thrillers\n",
       "19319   7108            최강전사 미니특공대 : 영웅의 탄생       Children & Family Movies\n",
       "\n",
       "[19320 rows x 3 columns]"
      ]
     },
     "execution_count": 143,
     "metadata": {},
     "output_type": "execute_result"
    }
   ],
   "source": [
    "df_tg=df_tg.groupby('title').apply(func)\n",
    "df_tg.drop('listed_in',axis=1,inplace=True)\n",
    "df_tg=df_tg.reset_index(drop=True)\n",
    "df_tg.columns=['index','title','genres']\n",
    "df_tg"
   ]
  },
  {
   "cell_type": "markdown",
   "id": "39c41776",
   "metadata": {},
   "source": [
    "#### unnesting cast for each title"
   ]
  },
  {
   "cell_type": "code",
   "execution_count": 144,
   "id": "42e507f7",
   "metadata": {},
   "outputs": [],
   "source": [
    "df_tc=df[['title','cast']]\n",
    "df1=df_tc['cast'].str.split(',',expand=True).reset_index()\n",
    "df_tc=df_tc.reset_index()\n",
    "df_tc=df_tc.merge(df1,on='index')\n",
    "df_tc=pd.melt(frame=df_tc,id_vars =['index','title','cast'])\n",
    "df_tc.drop('variable',axis=1,inplace=True)"
   ]
  },
  {
   "cell_type": "code",
   "execution_count": 145,
   "id": "79aa6199",
   "metadata": {},
   "outputs": [],
   "source": [
    "def func(x):\n",
    "    if x['value'].isna().sum()==50:\n",
    "        x=x.drop_duplicates()\n",
    "    else:\n",
    "        x=x[~x['value'].isna()]\n",
    "    return x"
   ]
  },
  {
   "cell_type": "code",
   "execution_count": 146,
   "id": "a0f09aef",
   "metadata": {},
   "outputs": [
    {
     "data": {
      "text/html": [
       "<div>\n",
       "<style scoped>\n",
       "    .dataframe tbody tr th:only-of-type {\n",
       "        vertical-align: middle;\n",
       "    }\n",
       "\n",
       "    .dataframe tbody tr th {\n",
       "        vertical-align: top;\n",
       "    }\n",
       "\n",
       "    .dataframe thead th {\n",
       "        text-align: right;\n",
       "    }\n",
       "</style>\n",
       "<table border=\"1\" class=\"dataframe\">\n",
       "  <thead>\n",
       "    <tr style=\"text-align: right;\">\n",
       "      <th></th>\n",
       "      <th>index</th>\n",
       "      <th>title</th>\n",
       "      <th>cast</th>\n",
       "    </tr>\n",
       "  </thead>\n",
       "  <tbody>\n",
       "    <tr>\n",
       "      <th>0</th>\n",
       "      <td>2036</td>\n",
       "      <td>#Alive</td>\n",
       "      <td>Yoo Ah-in</td>\n",
       "    </tr>\n",
       "    <tr>\n",
       "      <th>1</th>\n",
       "      <td>2036</td>\n",
       "      <td>#Alive</td>\n",
       "      <td>Park Shin-hye</td>\n",
       "    </tr>\n",
       "    <tr>\n",
       "      <th>2</th>\n",
       "      <td>2304</td>\n",
       "      <td>#AnneFrank - Parallel Stories</td>\n",
       "      <td>Helen Mirren</td>\n",
       "    </tr>\n",
       "    <tr>\n",
       "      <th>3</th>\n",
       "      <td>2304</td>\n",
       "      <td>#AnneFrank - Parallel Stories</td>\n",
       "      <td>Gengher Gatti</td>\n",
       "    </tr>\n",
       "    <tr>\n",
       "      <th>4</th>\n",
       "      <td>2481</td>\n",
       "      <td>#FriendButMarried</td>\n",
       "      <td>Adipati Dolken</td>\n",
       "    </tr>\n",
       "    <tr>\n",
       "      <th>...</th>\n",
       "      <td>...</td>\n",
       "      <td>...</td>\n",
       "      <td>...</td>\n",
       "    </tr>\n",
       "    <tr>\n",
       "      <th>64943</th>\n",
       "      <td>7108</td>\n",
       "      <td>최강전사 미니특공대 : 영웅의 탄생</td>\n",
       "      <td>Yang Jeong-hwa</td>\n",
       "    </tr>\n",
       "    <tr>\n",
       "      <th>64944</th>\n",
       "      <td>7108</td>\n",
       "      <td>최강전사 미니특공대 : 영웅의 탄생</td>\n",
       "      <td>Jeon Tae-yeol</td>\n",
       "    </tr>\n",
       "    <tr>\n",
       "      <th>64945</th>\n",
       "      <td>7108</td>\n",
       "      <td>최강전사 미니특공대 : 영웅의 탄생</td>\n",
       "      <td>Shin Yong-woo</td>\n",
       "    </tr>\n",
       "    <tr>\n",
       "      <th>64946</th>\n",
       "      <td>7108</td>\n",
       "      <td>최강전사 미니특공대 : 영웅의 탄생</td>\n",
       "      <td>Lee So-young</td>\n",
       "    </tr>\n",
       "    <tr>\n",
       "      <th>64947</th>\n",
       "      <td>7108</td>\n",
       "      <td>최강전사 미니특공대 : 영웅의 탄생</td>\n",
       "      <td>So-yeon</td>\n",
       "    </tr>\n",
       "  </tbody>\n",
       "</table>\n",
       "<p>64948 rows × 3 columns</p>\n",
       "</div>"
      ],
      "text/plain": [
       "       index                          title             cast\n",
       "0       2036                         #Alive        Yoo Ah-in\n",
       "1       2036                         #Alive    Park Shin-hye\n",
       "2       2304  #AnneFrank - Parallel Stories     Helen Mirren\n",
       "3       2304  #AnneFrank - Parallel Stories    Gengher Gatti\n",
       "4       2481              #FriendButMarried   Adipati Dolken\n",
       "...      ...                            ...              ...\n",
       "64943   7108            최강전사 미니특공대 : 영웅의 탄생   Yang Jeong-hwa\n",
       "64944   7108            최강전사 미니특공대 : 영웅의 탄생    Jeon Tae-yeol\n",
       "64945   7108            최강전사 미니특공대 : 영웅의 탄생    Shin Yong-woo\n",
       "64946   7108            최강전사 미니특공대 : 영웅의 탄생     Lee So-young\n",
       "64947   7108            최강전사 미니특공대 : 영웅의 탄생          So-yeon\n",
       "\n",
       "[64948 rows x 3 columns]"
      ]
     },
     "execution_count": 146,
     "metadata": {},
     "output_type": "execute_result"
    }
   ],
   "source": [
    "df_tc=df_tc.groupby('title').apply(func)\n",
    "df_tc.drop('cast',axis=1,inplace=True)\n",
    "df_tc=df_tc.reset_index(drop=True)\n",
    "df_tc.columns=['index','title','cast']\n",
    "df_tc"
   ]
  },
  {
   "cell_type": "markdown",
   "id": "18948e22",
   "metadata": {},
   "source": [
    "#### unnesting Country for each title"
   ]
  },
  {
   "cell_type": "code",
   "execution_count": 147,
   "id": "d603f631",
   "metadata": {},
   "outputs": [],
   "source": [
    "df_tcc=df[['title','country']]\n",
    "df1=df_tcc['country'].str.split(',',expand=True).reset_index()\n",
    "df_tcc=df_tcc.reset_index()\n",
    "df_tcc=df_tcc.merge(df1,on='index')\n",
    "df_tcc=pd.melt(frame=df_tcc,id_vars =['index','title','country'])\n",
    "df_tcc.drop('variable',axis=1,inplace=True)"
   ]
  },
  {
   "cell_type": "code",
   "execution_count": 148,
   "id": "e4dd2575",
   "metadata": {},
   "outputs": [],
   "source": [
    "def func(x):\n",
    "    if x['value'].isna().sum()==12:\n",
    "        x=x.drop_duplicates()\n",
    "    else:\n",
    "        x=x[~x['value'].isna()]\n",
    "    return x"
   ]
  },
  {
   "cell_type": "code",
   "execution_count": 149,
   "id": "eb98be50",
   "metadata": {},
   "outputs": [
    {
     "data": {
      "text/html": [
       "<div>\n",
       "<style scoped>\n",
       "    .dataframe tbody tr th:only-of-type {\n",
       "        vertical-align: middle;\n",
       "    }\n",
       "\n",
       "    .dataframe tbody tr th {\n",
       "        vertical-align: top;\n",
       "    }\n",
       "\n",
       "    .dataframe thead th {\n",
       "        text-align: right;\n",
       "    }\n",
       "</style>\n",
       "<table border=\"1\" class=\"dataframe\">\n",
       "  <thead>\n",
       "    <tr style=\"text-align: right;\">\n",
       "      <th></th>\n",
       "      <th>index</th>\n",
       "      <th>title</th>\n",
       "      <th>country</th>\n",
       "    </tr>\n",
       "  </thead>\n",
       "  <tbody>\n",
       "    <tr>\n",
       "      <th>0</th>\n",
       "      <td>2036</td>\n",
       "      <td>#Alive</td>\n",
       "      <td>South Korea</td>\n",
       "    </tr>\n",
       "    <tr>\n",
       "      <th>1</th>\n",
       "      <td>2304</td>\n",
       "      <td>#AnneFrank - Parallel Stories</td>\n",
       "      <td>Italy</td>\n",
       "    </tr>\n",
       "    <tr>\n",
       "      <th>2</th>\n",
       "      <td>2481</td>\n",
       "      <td>#FriendButMarried</td>\n",
       "      <td>Indonesia</td>\n",
       "    </tr>\n",
       "    <tr>\n",
       "      <th>3</th>\n",
       "      <td>2324</td>\n",
       "      <td>#FriendButMarried 2</td>\n",
       "      <td>Indonesia</td>\n",
       "    </tr>\n",
       "    <tr>\n",
       "      <th>4</th>\n",
       "      <td>5973</td>\n",
       "      <td>#Roxy</td>\n",
       "      <td>Canada</td>\n",
       "    </tr>\n",
       "    <tr>\n",
       "      <th>...</th>\n",
       "      <td>...</td>\n",
       "      <td>...</td>\n",
       "      <td>...</td>\n",
       "    </tr>\n",
       "    <tr>\n",
       "      <th>10842</th>\n",
       "      <td>6177</td>\n",
       "      <td>忍者ハットリくん</td>\n",
       "      <td>Japan</td>\n",
       "    </tr>\n",
       "    <tr>\n",
       "      <th>10843</th>\n",
       "      <td>4914</td>\n",
       "      <td>海的儿子</td>\n",
       "      <td>NaN</td>\n",
       "    </tr>\n",
       "    <tr>\n",
       "      <th>10844</th>\n",
       "      <td>7101</td>\n",
       "      <td>마녀사냥</td>\n",
       "      <td>South Korea</td>\n",
       "    </tr>\n",
       "    <tr>\n",
       "      <th>10845</th>\n",
       "      <td>5022</td>\n",
       "      <td>반드시 잡는다</td>\n",
       "      <td>South Korea</td>\n",
       "    </tr>\n",
       "    <tr>\n",
       "      <th>10846</th>\n",
       "      <td>7108</td>\n",
       "      <td>최강전사 미니특공대 : 영웅의 탄생</td>\n",
       "      <td>NaN</td>\n",
       "    </tr>\n",
       "  </tbody>\n",
       "</table>\n",
       "<p>10847 rows × 3 columns</p>\n",
       "</div>"
      ],
      "text/plain": [
       "       index                          title      country\n",
       "0       2036                         #Alive  South Korea\n",
       "1       2304  #AnneFrank - Parallel Stories        Italy\n",
       "2       2481              #FriendButMarried    Indonesia\n",
       "3       2324            #FriendButMarried 2    Indonesia\n",
       "4       5973                          #Roxy       Canada\n",
       "...      ...                            ...          ...\n",
       "10842   6177                       忍者ハットリくん        Japan\n",
       "10843   4914                           海的儿子          NaN\n",
       "10844   7101                           마녀사냥  South Korea\n",
       "10845   5022                        반드시 잡는다  South Korea\n",
       "10846   7108            최강전사 미니특공대 : 영웅의 탄생          NaN\n",
       "\n",
       "[10847 rows x 3 columns]"
      ]
     },
     "execution_count": 149,
     "metadata": {},
     "output_type": "execute_result"
    }
   ],
   "source": [
    "df_tcc=df_tcc.groupby('title').apply(func)\n",
    "df_tcc.drop('country',axis=1,inplace=True)\n",
    "df_tcc=df_tcc.reset_index(drop=True)\n",
    "df_tcc.columns=['index','title','country']\n",
    "df_tcc"
   ]
  },
  {
   "cell_type": "markdown",
   "id": "8fdcd016",
   "metadata": {},
   "source": [
    "#### Avg Duration for TV-Show and Movies "
   ]
  },
  {
   "cell_type": "code",
   "execution_count": 150,
   "id": "0256877a",
   "metadata": {},
   "outputs": [],
   "source": [
    "avg_duration=df[['type','duration']]"
   ]
  },
  {
   "cell_type": "code",
   "execution_count": 151,
   "id": "3c7fe522",
   "metadata": {},
   "outputs": [
    {
     "data": {
      "text/plain": [
       "array(['Movie', 'TV Show', 100], dtype=object)"
      ]
     },
     "execution_count": 151,
     "metadata": {},
     "output_type": "execute_result"
    }
   ],
   "source": [
    "avg_duration.type.unique()"
   ]
  },
  {
   "cell_type": "code",
   "execution_count": 152,
   "id": "30fca176",
   "metadata": {},
   "outputs": [],
   "source": [
    "avg_duration = avg_duration.drop(avg_duration[avg_duration['type']==100].index)"
   ]
  },
  {
   "cell_type": "code",
   "execution_count": 153,
   "id": "5be4a6d8",
   "metadata": {},
   "outputs": [
    {
     "data": {
      "text/html": [
       "<div>\n",
       "<style scoped>\n",
       "    .dataframe tbody tr th:only-of-type {\n",
       "        vertical-align: middle;\n",
       "    }\n",
       "\n",
       "    .dataframe tbody tr th {\n",
       "        vertical-align: top;\n",
       "    }\n",
       "\n",
       "    .dataframe thead th {\n",
       "        text-align: right;\n",
       "    }\n",
       "</style>\n",
       "<table border=\"1\" class=\"dataframe\">\n",
       "  <thead>\n",
       "    <tr style=\"text-align: right;\">\n",
       "      <th></th>\n",
       "      <th>type</th>\n",
       "      <th>duration</th>\n",
       "    </tr>\n",
       "  </thead>\n",
       "  <tbody>\n",
       "    <tr>\n",
       "      <th>0</th>\n",
       "      <td>Movie</td>\n",
       "      <td>99.577187</td>\n",
       "    </tr>\n",
       "    <tr>\n",
       "      <th>1</th>\n",
       "      <td>TV Show</td>\n",
       "      <td>1.764948</td>\n",
       "    </tr>\n",
       "  </tbody>\n",
       "</table>\n",
       "</div>"
      ],
      "text/plain": [
       "      type   duration\n",
       "0    Movie  99.577187\n",
       "1  TV Show   1.764948"
      ]
     },
     "execution_count": 153,
     "metadata": {},
     "output_type": "execute_result"
    }
   ],
   "source": [
    "avg_duration.groupby('type')['duration'].mean().reset_index()"
   ]
  },
  {
   "cell_type": "markdown",
   "id": "6376bef7",
   "metadata": {},
   "source": [
    "### Non-Graphical Analysis: Value counts and unique attributes"
   ]
  },
  {
   "cell_type": "code",
   "execution_count": 154,
   "id": "4fbbdfa0",
   "metadata": {},
   "outputs": [
    {
     "data": {
      "text/plain": [
       " Anupam Kher         39\n",
       " Rupa Bhimani        31\n",
       " Takahiro Sakurai    30\n",
       " Julie Tejwani       28\n",
       " Om Puri             27\n",
       "                     ..\n",
       " Surbhi Mahendru      1\n",
       " Gerson Da Cunha      1\n",
       " Subhashini Ali       1\n",
       " Umesh Mehra          1\n",
       " So-yeon              1\n",
       "Name: cast, Length: 39295, dtype: int64"
      ]
     },
     "execution_count": 154,
     "metadata": {},
     "output_type": "execute_result"
    }
   ],
   "source": [
    "df_tc.cast.value_counts()"
   ]
  },
  {
   "cell_type": "code",
   "execution_count": 155,
   "id": "c9f6d8d9",
   "metadata": {},
   "outputs": [
    {
     "data": {
      "text/plain": [
       "39296"
      ]
     },
     "execution_count": 155,
     "metadata": {},
     "output_type": "execute_result"
    }
   ],
   "source": [
    "len(df_tc.cast.unique())        # No of Unique cast"
   ]
  },
  {
   "cell_type": "code",
   "execution_count": 156,
   "id": "cd69417c",
   "metadata": {},
   "outputs": [
    {
     "data": {
      "text/plain": [
       "Rajiv Chilaka     22\n",
       " Jan Suter        18\n",
       "Raúl Campos       18\n",
       "Marcus Raboy      16\n",
       "Suhas Kadav       16\n",
       "                  ..\n",
       "André Odendaal     1\n",
       " Johan Vorster     1\n",
       "John Whitesell     1\n",
       "Neri Parenti       1\n",
       "Young Jun Lee      1\n",
       "Name: directors, Length: 5119, dtype: int64"
      ]
     },
     "execution_count": 156,
     "metadata": {},
     "output_type": "execute_result"
    }
   ],
   "source": [
    "df_td.directors.value_counts()"
   ]
  },
  {
   "cell_type": "code",
   "execution_count": 157,
   "id": "bb3f67ca",
   "metadata": {},
   "outputs": [
    {
     "data": {
      "text/plain": [
       "5120"
      ]
     },
     "execution_count": 157,
     "metadata": {},
     "output_type": "execute_result"
    }
   ],
   "source": [
    "len(df_td.directors.unique())      # No of Unique directors"
   ]
  },
  {
   "cell_type": "code",
   "execution_count": 158,
   "id": "717fd399",
   "metadata": {},
   "outputs": [
    {
     "data": {
      "text/plain": [
       "United States     3208\n",
       "India             1008\n",
       "United Kingdom     628\n",
       " United States     479\n",
       "Canada             271\n",
       "                  ... \n",
       " Ecuador             1\n",
       " Botswana            1\n",
       "Puerto Rico          1\n",
       " Vatican City        1\n",
       " Montenegro          1\n",
       "Name: country, Length: 197, dtype: int64"
      ]
     },
     "execution_count": 158,
     "metadata": {},
     "output_type": "execute_result"
    }
   ],
   "source": [
    "df_tcc['country'].value_counts()"
   ]
  },
  {
   "cell_type": "code",
   "execution_count": 159,
   "id": "6e25d0cf",
   "metadata": {},
   "outputs": [
    {
     "data": {
      "text/plain": [
       "198"
      ]
     },
     "execution_count": 159,
     "metadata": {},
     "output_type": "execute_result"
    }
   ],
   "source": [
    "len(df_tcc.country.unique())      # No of Unique country"
   ]
  },
  {
   "cell_type": "code",
   "execution_count": 160,
   "id": "b7fca720",
   "metadata": {},
   "outputs": [
    {
     "data": {
      "text/plain": [
       " International Movies        2624\n",
       "Dramas                       1600\n",
       "Comedies                     1210\n",
       "Action & Adventure            859\n",
       "Documentaries                 829\n",
       "                             ... \n",
       "Romantic Movies                 3\n",
       "Spanish-Language TV Shows       2\n",
       "Sports Movies                   1\n",
       "TV Sci-Fi & Fantasy             1\n",
       "LGBTQ Movies                    1\n",
       "Name: genres, Length: 73, dtype: int64"
      ]
     },
     "execution_count": 160,
     "metadata": {},
     "output_type": "execute_result"
    }
   ],
   "source": [
    "df_tg.genres.value_counts()"
   ]
  },
  {
   "cell_type": "code",
   "execution_count": 161,
   "id": "42c6d7aa",
   "metadata": {},
   "outputs": [
    {
     "data": {
      "text/plain": [
       "73"
      ]
     },
     "execution_count": 161,
     "metadata": {},
     "output_type": "execute_result"
    }
   ],
   "source": [
    "len(df_tg.genres.unique())      # No of Unique genre"
   ]
  },
  {
   "cell_type": "markdown",
   "id": "8ba2b0e1",
   "metadata": {},
   "source": [
    "#### Merging all individual dataset "
   ]
  },
  {
   "cell_type": "code",
   "execution_count": 162,
   "id": "84778231",
   "metadata": {},
   "outputs": [
    {
     "name": "stderr",
     "output_type": "stream",
     "text": [
      "C:\\Users\\raypr\\AppData\\Local\\Temp\\ipykernel_6324\\1895487294.py:3: FutureWarning: Passing 'suffixes' which cause duplicate columns {'index_x'} in the result is deprecated and will raise a MergeError in a future version.\n",
      "  df_tdcgc=df_tdcg.merge(df_tcc,on='title')\n"
     ]
    }
   ],
   "source": [
    "df_tdc=df_td.merge(df_tc,on='title')\n",
    "df_tdcg=df_tdc.merge(df_tg,on='title')\n",
    "df_tdcgc=df_tdcg.merge(df_tcc,on='title')"
   ]
  },
  {
   "cell_type": "code",
   "execution_count": 163,
   "id": "9fcb21e4",
   "metadata": {},
   "outputs": [],
   "source": [
    "df.drop(['director','cast','listed_in','country'],axis=1,inplace=True)"
   ]
  },
  {
   "cell_type": "code",
   "execution_count": 164,
   "id": "7a1bb483",
   "metadata": {},
   "outputs": [],
   "source": [
    "df_combined=df_tdcgc.merge(df,on='title')"
   ]
  },
  {
   "cell_type": "code",
   "execution_count": 165,
   "id": "c5a85ab9",
   "metadata": {},
   "outputs": [],
   "source": [
    "df_combined.drop(['index_x','index_y'],axis=1,inplace=True)"
   ]
  },
  {
   "cell_type": "code",
   "execution_count": 166,
   "id": "b2c19790",
   "metadata": {},
   "outputs": [
    {
     "data": {
      "text/html": [
       "<div>\n",
       "<style scoped>\n",
       "    .dataframe tbody tr th:only-of-type {\n",
       "        vertical-align: middle;\n",
       "    }\n",
       "\n",
       "    .dataframe tbody tr th {\n",
       "        vertical-align: top;\n",
       "    }\n",
       "\n",
       "    .dataframe thead th {\n",
       "        text-align: right;\n",
       "    }\n",
       "</style>\n",
       "<table border=\"1\" class=\"dataframe\">\n",
       "  <thead>\n",
       "    <tr style=\"text-align: right;\">\n",
       "      <th></th>\n",
       "      <th>title</th>\n",
       "      <th>directors</th>\n",
       "      <th>cast</th>\n",
       "      <th>genres</th>\n",
       "      <th>country</th>\n",
       "      <th>type</th>\n",
       "      <th>release_year</th>\n",
       "      <th>rating</th>\n",
       "      <th>duration</th>\n",
       "      <th>date</th>\n",
       "    </tr>\n",
       "  </thead>\n",
       "  <tbody>\n",
       "    <tr>\n",
       "      <th>0</th>\n",
       "      <td>#Alive</td>\n",
       "      <td>Cho Il</td>\n",
       "      <td>Yoo Ah-in</td>\n",
       "      <td>Horror Movies</td>\n",
       "      <td>South Korea</td>\n",
       "      <td>Movie</td>\n",
       "      <td>2020</td>\n",
       "      <td>TV-MA</td>\n",
       "      <td>99</td>\n",
       "      <td>2020-09-08</td>\n",
       "    </tr>\n",
       "    <tr>\n",
       "      <th>1</th>\n",
       "      <td>#Alive</td>\n",
       "      <td>Cho Il</td>\n",
       "      <td>Yoo Ah-in</td>\n",
       "      <td>International Movies</td>\n",
       "      <td>South Korea</td>\n",
       "      <td>Movie</td>\n",
       "      <td>2020</td>\n",
       "      <td>TV-MA</td>\n",
       "      <td>99</td>\n",
       "      <td>2020-09-08</td>\n",
       "    </tr>\n",
       "    <tr>\n",
       "      <th>2</th>\n",
       "      <td>#Alive</td>\n",
       "      <td>Cho Il</td>\n",
       "      <td>Yoo Ah-in</td>\n",
       "      <td>Thrillers</td>\n",
       "      <td>South Korea</td>\n",
       "      <td>Movie</td>\n",
       "      <td>2020</td>\n",
       "      <td>TV-MA</td>\n",
       "      <td>99</td>\n",
       "      <td>2020-09-08</td>\n",
       "    </tr>\n",
       "    <tr>\n",
       "      <th>3</th>\n",
       "      <td>#Alive</td>\n",
       "      <td>Cho Il</td>\n",
       "      <td>Park Shin-hye</td>\n",
       "      <td>Horror Movies</td>\n",
       "      <td>South Korea</td>\n",
       "      <td>Movie</td>\n",
       "      <td>2020</td>\n",
       "      <td>TV-MA</td>\n",
       "      <td>99</td>\n",
       "      <td>2020-09-08</td>\n",
       "    </tr>\n",
       "    <tr>\n",
       "      <th>4</th>\n",
       "      <td>#Alive</td>\n",
       "      <td>Cho Il</td>\n",
       "      <td>Park Shin-hye</td>\n",
       "      <td>International Movies</td>\n",
       "      <td>South Korea</td>\n",
       "      <td>Movie</td>\n",
       "      <td>2020</td>\n",
       "      <td>TV-MA</td>\n",
       "      <td>99</td>\n",
       "      <td>2020-09-08</td>\n",
       "    </tr>\n",
       "    <tr>\n",
       "      <th>...</th>\n",
       "      <td>...</td>\n",
       "      <td>...</td>\n",
       "      <td>...</td>\n",
       "      <td>...</td>\n",
       "      <td>...</td>\n",
       "      <td>...</td>\n",
       "      <td>...</td>\n",
       "      <td>...</td>\n",
       "      <td>...</td>\n",
       "      <td>...</td>\n",
       "    </tr>\n",
       "    <tr>\n",
       "      <th>202057</th>\n",
       "      <td>최강전사 미니특공대 : 영웅의 탄생</td>\n",
       "      <td>Young Jun Lee</td>\n",
       "      <td>Yang Jeong-hwa</td>\n",
       "      <td>Children &amp; Family Movies</td>\n",
       "      <td>NaN</td>\n",
       "      <td>Movie</td>\n",
       "      <td>2018</td>\n",
       "      <td>TV-Y7</td>\n",
       "      <td>68</td>\n",
       "      <td>2018-09-01</td>\n",
       "    </tr>\n",
       "    <tr>\n",
       "      <th>202058</th>\n",
       "      <td>최강전사 미니특공대 : 영웅의 탄생</td>\n",
       "      <td>Young Jun Lee</td>\n",
       "      <td>Jeon Tae-yeol</td>\n",
       "      <td>Children &amp; Family Movies</td>\n",
       "      <td>NaN</td>\n",
       "      <td>Movie</td>\n",
       "      <td>2018</td>\n",
       "      <td>TV-Y7</td>\n",
       "      <td>68</td>\n",
       "      <td>2018-09-01</td>\n",
       "    </tr>\n",
       "    <tr>\n",
       "      <th>202059</th>\n",
       "      <td>최강전사 미니특공대 : 영웅의 탄생</td>\n",
       "      <td>Young Jun Lee</td>\n",
       "      <td>Shin Yong-woo</td>\n",
       "      <td>Children &amp; Family Movies</td>\n",
       "      <td>NaN</td>\n",
       "      <td>Movie</td>\n",
       "      <td>2018</td>\n",
       "      <td>TV-Y7</td>\n",
       "      <td>68</td>\n",
       "      <td>2018-09-01</td>\n",
       "    </tr>\n",
       "    <tr>\n",
       "      <th>202060</th>\n",
       "      <td>최강전사 미니특공대 : 영웅의 탄생</td>\n",
       "      <td>Young Jun Lee</td>\n",
       "      <td>Lee So-young</td>\n",
       "      <td>Children &amp; Family Movies</td>\n",
       "      <td>NaN</td>\n",
       "      <td>Movie</td>\n",
       "      <td>2018</td>\n",
       "      <td>TV-Y7</td>\n",
       "      <td>68</td>\n",
       "      <td>2018-09-01</td>\n",
       "    </tr>\n",
       "    <tr>\n",
       "      <th>202061</th>\n",
       "      <td>최강전사 미니특공대 : 영웅의 탄생</td>\n",
       "      <td>Young Jun Lee</td>\n",
       "      <td>So-yeon</td>\n",
       "      <td>Children &amp; Family Movies</td>\n",
       "      <td>NaN</td>\n",
       "      <td>Movie</td>\n",
       "      <td>2018</td>\n",
       "      <td>TV-Y7</td>\n",
       "      <td>68</td>\n",
       "      <td>2018-09-01</td>\n",
       "    </tr>\n",
       "  </tbody>\n",
       "</table>\n",
       "<p>202062 rows × 10 columns</p>\n",
       "</div>"
      ],
      "text/plain": [
       "                      title      directors             cast  \\\n",
       "0                    #Alive         Cho Il        Yoo Ah-in   \n",
       "1                    #Alive         Cho Il        Yoo Ah-in   \n",
       "2                    #Alive         Cho Il        Yoo Ah-in   \n",
       "3                    #Alive         Cho Il    Park Shin-hye   \n",
       "4                    #Alive         Cho Il    Park Shin-hye   \n",
       "...                     ...            ...              ...   \n",
       "202057  최강전사 미니특공대 : 영웅의 탄생  Young Jun Lee   Yang Jeong-hwa   \n",
       "202058  최강전사 미니특공대 : 영웅의 탄생  Young Jun Lee    Jeon Tae-yeol   \n",
       "202059  최강전사 미니특공대 : 영웅의 탄생  Young Jun Lee    Shin Yong-woo   \n",
       "202060  최강전사 미니특공대 : 영웅의 탄생  Young Jun Lee     Lee So-young   \n",
       "202061  최강전사 미니특공대 : 영웅의 탄생  Young Jun Lee          So-yeon   \n",
       "\n",
       "                          genres      country   type  release_year rating  \\\n",
       "0                  Horror Movies  South Korea  Movie          2020  TV-MA   \n",
       "1           International Movies  South Korea  Movie          2020  TV-MA   \n",
       "2                      Thrillers  South Korea  Movie          2020  TV-MA   \n",
       "3                  Horror Movies  South Korea  Movie          2020  TV-MA   \n",
       "4           International Movies  South Korea  Movie          2020  TV-MA   \n",
       "...                          ...          ...    ...           ...    ...   \n",
       "202057  Children & Family Movies          NaN  Movie          2018  TV-Y7   \n",
       "202058  Children & Family Movies          NaN  Movie          2018  TV-Y7   \n",
       "202059  Children & Family Movies          NaN  Movie          2018  TV-Y7   \n",
       "202060  Children & Family Movies          NaN  Movie          2018  TV-Y7   \n",
       "202061  Children & Family Movies          NaN  Movie          2018  TV-Y7   \n",
       "\n",
       "        duration       date  \n",
       "0             99 2020-09-08  \n",
       "1             99 2020-09-08  \n",
       "2             99 2020-09-08  \n",
       "3             99 2020-09-08  \n",
       "4             99 2020-09-08  \n",
       "...          ...        ...  \n",
       "202057        68 2018-09-01  \n",
       "202058        68 2018-09-01  \n",
       "202059        68 2018-09-01  \n",
       "202060        68 2018-09-01  \n",
       "202061        68 2018-09-01  \n",
       "\n",
       "[202062 rows x 10 columns]"
      ]
     },
     "execution_count": 166,
     "metadata": {},
     "output_type": "execute_result"
    }
   ],
   "source": [
    "df_combined"
   ]
  },
  {
   "cell_type": "code",
   "execution_count": 167,
   "id": "509af817",
   "metadata": {},
   "outputs": [
    {
     "data": {
      "text/plain": [
       "country    11897\n",
       "dtype: int64"
      ]
     },
     "execution_count": 167,
     "metadata": {},
     "output_type": "execute_result"
    }
   ],
   "source": [
    "df_combined[['country']].isna().sum()"
   ]
  },
  {
   "cell_type": "markdown",
   "id": "f963a702",
   "metadata": {},
   "source": [
    "#### Fill Missing value in Cast and director column with mode"
   ]
  },
  {
   "cell_type": "code",
   "execution_count": 168,
   "id": "3cbc73c9",
   "metadata": {},
   "outputs": [],
   "source": [
    "df_combined['cast'].fillna(df_combined['cast'].mode()[0], inplace = True)"
   ]
  },
  {
   "cell_type": "code",
   "execution_count": 169,
   "id": "4cd4c8cc",
   "metadata": {},
   "outputs": [],
   "source": [
    "df_combined['directors'].fillna(df_combined['directors'].mode()[0], inplace = True)"
   ]
  },
  {
   "cell_type": "markdown",
   "id": "315fe804",
   "metadata": {},
   "source": [
    "#### Multiple Imputation for Country column"
   ]
  },
  {
   "cell_type": "code",
   "execution_count": 170,
   "id": "0f6a48c8",
   "metadata": {},
   "outputs": [],
   "source": [
    "df_temp=df_combined[['country','cast']]\n",
    "df_temp=df_temp.groupby('cast', group_keys=False)['country'].agg(pd.Series.mode).reset_index()"
   ]
  },
  {
   "cell_type": "code",
   "execution_count": 171,
   "id": "575783ec",
   "metadata": {},
   "outputs": [],
   "source": [
    "def func(x,y,z):\n",
    "    try:\n",
    "        value=y.loc[y[y['cast']==x['cast']]['country'].index[0]]['country']\n",
    "        if type(value)==str:\n",
    "            x['country']=value\n",
    "        elif type(value)==list and len(value)>0:\n",
    "            x['country']=value[0]\n",
    "        else:\n",
    "            x['country']=z\n",
    "    except:\n",
    "        x['country']=z\n",
    "    return x"
   ]
  },
  {
   "cell_type": "code",
   "execution_count": 172,
   "id": "972bd0b7",
   "metadata": {},
   "outputs": [],
   "source": [
    "z=df_combined['country'].mode()[0]\n",
    "df_combined[['cast','country']]=df_combined[['cast','country']].apply(lambda x:func(x,df_temp,z) if(str(x[1]) == 'nan') else x, axis = 1)"
   ]
  },
  {
   "cell_type": "code",
   "execution_count": 173,
   "id": "75623c61",
   "metadata": {},
   "outputs": [
    {
     "data": {
      "text/plain": [
       "title           0\n",
       "directors       0\n",
       "cast            0\n",
       "genres          0\n",
       "country         0\n",
       "type            0\n",
       "release_year    0\n",
       "rating          0\n",
       "duration        0\n",
       "date            0\n",
       "dtype: int64"
      ]
     },
     "execution_count": 173,
     "metadata": {},
     "output_type": "execute_result"
    }
   ],
   "source": [
    "df_combined.isna().sum()"
   ]
  },
  {
   "cell_type": "code",
   "execution_count": 174,
   "id": "235b0204",
   "metadata": {},
   "outputs": [
    {
     "name": "stdout",
     "output_type": "stream",
     "text": [
      "<class 'pandas.core.frame.DataFrame'>\n",
      "Int64Index: 202062 entries, 0 to 202061\n",
      "Data columns (total 10 columns):\n",
      " #   Column        Non-Null Count   Dtype         \n",
      "---  ------        --------------   -----         \n",
      " 0   title         202062 non-null  object        \n",
      " 1   directors     202062 non-null  object        \n",
      " 2   cast          202062 non-null  object        \n",
      " 3   genres        202062 non-null  object        \n",
      " 4   country       202062 non-null  object        \n",
      " 5   type          202062 non-null  object        \n",
      " 6   release_year  202062 non-null  int64         \n",
      " 7   rating        202062 non-null  object        \n",
      " 8   duration      202062 non-null  int64         \n",
      " 9   date          202062 non-null  datetime64[ns]\n",
      "dtypes: datetime64[ns](1), int64(2), object(7)\n",
      "memory usage: 17.0+ MB\n"
     ]
    }
   ],
   "source": [
    "df_combined.info()"
   ]
  },
  {
   "cell_type": "code",
   "execution_count": 175,
   "id": "34b21844",
   "metadata": {},
   "outputs": [
    {
     "data": {
      "text/html": [
       "<div>\n",
       "<style scoped>\n",
       "    .dataframe tbody tr th:only-of-type {\n",
       "        vertical-align: middle;\n",
       "    }\n",
       "\n",
       "    .dataframe tbody tr th {\n",
       "        vertical-align: top;\n",
       "    }\n",
       "\n",
       "    .dataframe thead th {\n",
       "        text-align: right;\n",
       "    }\n",
       "</style>\n",
       "<table border=\"1\" class=\"dataframe\">\n",
       "  <thead>\n",
       "    <tr style=\"text-align: right;\">\n",
       "      <th></th>\n",
       "      <th>release_year</th>\n",
       "      <th>duration</th>\n",
       "    </tr>\n",
       "  </thead>\n",
       "  <tbody>\n",
       "    <tr>\n",
       "      <th>count</th>\n",
       "      <td>202062.000000</td>\n",
       "      <td>202062.000000</td>\n",
       "    </tr>\n",
       "    <tr>\n",
       "      <th>mean</th>\n",
       "      <td>2013.448941</td>\n",
       "      <td>77.687873</td>\n",
       "    </tr>\n",
       "    <tr>\n",
       "      <th>std</th>\n",
       "      <td>9.013675</td>\n",
       "      <td>51.482097</td>\n",
       "    </tr>\n",
       "    <tr>\n",
       "      <th>min</th>\n",
       "      <td>1925.000000</td>\n",
       "      <td>1.000000</td>\n",
       "    </tr>\n",
       "    <tr>\n",
       "      <th>25%</th>\n",
       "      <td>2012.000000</td>\n",
       "      <td>4.000000</td>\n",
       "    </tr>\n",
       "    <tr>\n",
       "      <th>50%</th>\n",
       "      <td>2016.000000</td>\n",
       "      <td>95.000000</td>\n",
       "    </tr>\n",
       "    <tr>\n",
       "      <th>75%</th>\n",
       "      <td>2019.000000</td>\n",
       "      <td>112.000000</td>\n",
       "    </tr>\n",
       "    <tr>\n",
       "      <th>max</th>\n",
       "      <td>2021.000000</td>\n",
       "      <td>312.000000</td>\n",
       "    </tr>\n",
       "  </tbody>\n",
       "</table>\n",
       "</div>"
      ],
      "text/plain": [
       "        release_year       duration\n",
       "count  202062.000000  202062.000000\n",
       "mean     2013.448941      77.687873\n",
       "std         9.013675      51.482097\n",
       "min      1925.000000       1.000000\n",
       "25%      2012.000000       4.000000\n",
       "50%      2016.000000      95.000000\n",
       "75%      2019.000000     112.000000\n",
       "max      2021.000000     312.000000"
      ]
     },
     "execution_count": 175,
     "metadata": {},
     "output_type": "execute_result"
    }
   ],
   "source": [
    "df_combined.describe()"
   ]
  },
  {
   "cell_type": "code",
   "execution_count": 176,
   "id": "4c4d9162",
   "metadata": {},
   "outputs": [],
   "source": [
    "# we dont have features like Revenue,Views,other customer details so we will use rating column in our analysis"
   ]
  },
  {
   "cell_type": "markdown",
   "id": "fb1f2fa0",
   "metadata": {},
   "source": [
    "### Number of movies released per year"
   ]
  },
  {
   "cell_type": "code",
   "execution_count": 177,
   "id": "52515744",
   "metadata": {},
   "outputs": [],
   "source": [
    "df_movie=df_combined[['title','release_year','type','duration','rating']].drop_duplicates()"
   ]
  },
  {
   "cell_type": "code",
   "execution_count": 178,
   "id": "5ce7d50e",
   "metadata": {},
   "outputs": [],
   "source": [
    "df_title_count=df_movie.groupby(['release_year','type'])['title'].nunique().reset_index()"
   ]
  },
  {
   "cell_type": "markdown",
   "id": "da74a4db",
   "metadata": {},
   "source": [
    "Converting Release_year to bins having 10 year gap"
   ]
  },
  {
   "cell_type": "code",
   "execution_count": 179,
   "id": "77956a03",
   "metadata": {},
   "outputs": [],
   "source": [
    "def year_bin(df_title_count,cut_points,labels):\n",
    "    ma=df_title_count.release_year.max()\n",
    "    mi=df_title_count.release_year.min()\n",
    "    break_points=[mi]+cut_points+[ma]\n",
    "    Bin=pd.cut(df_title_count.release_year,bins=break_points,labels=labels,include_lowest=True)\n",
    "    return Bin"
   ]
  },
  {
   "cell_type": "code",
   "execution_count": 180,
   "id": "0f613b8e",
   "metadata": {},
   "outputs": [],
   "source": [
    "cut_points=[1935,1945,1955,1965,1975,1985,1995,2005,2015]\n",
    "labels=['1925-1935','1935-1945','1945-1955','1955-1965','1965-1975','1975-1985','1985-1995','1995-2005','2005-2015','2015-2023']\n",
    "df_title_count['bin_year']=year_bin(df_title_count,cut_points,labels)"
   ]
  },
  {
   "cell_type": "code",
   "execution_count": 181,
   "id": "5a59c3ef",
   "metadata": {},
   "outputs": [],
   "source": [
    "df_bin=df_title_count.groupby(['bin_year','type'])['title'].sum().reset_index()"
   ]
  },
  {
   "cell_type": "markdown",
   "id": "2fb84ad7",
   "metadata": {},
   "source": [
    "### Comparison of tv shows vs. movies"
   ]
  },
  {
   "cell_type": "code",
   "execution_count": 182,
   "id": "eedc5eb8",
   "metadata": {},
   "outputs": [
    {
     "data": {
      "text/html": [
       "<div>\n",
       "<style scoped>\n",
       "    .dataframe tbody tr th:only-of-type {\n",
       "        vertical-align: middle;\n",
       "    }\n",
       "\n",
       "    .dataframe tbody tr th {\n",
       "        vertical-align: top;\n",
       "    }\n",
       "\n",
       "    .dataframe thead th {\n",
       "        text-align: right;\n",
       "    }\n",
       "</style>\n",
       "<table border=\"1\" class=\"dataframe\">\n",
       "  <thead>\n",
       "    <tr style=\"text-align: right;\">\n",
       "      <th></th>\n",
       "      <th>type</th>\n",
       "      <th>title</th>\n",
       "    </tr>\n",
       "  </thead>\n",
       "  <tbody>\n",
       "    <tr>\n",
       "      <th>0</th>\n",
       "      <td>Movie</td>\n",
       "      <td>6128</td>\n",
       "    </tr>\n",
       "    <tr>\n",
       "      <th>1</th>\n",
       "      <td>TV Show</td>\n",
       "      <td>2676</td>\n",
       "    </tr>\n",
       "  </tbody>\n",
       "</table>\n",
       "</div>"
      ],
      "text/plain": [
       "      type  title\n",
       "0    Movie   6128\n",
       "1  TV Show   2676"
      ]
     },
     "execution_count": 182,
     "metadata": {},
     "output_type": "execute_result"
    }
   ],
   "source": [
    "x=df_combined[['title','type']].drop_duplicates()\n",
    "x=x.groupby('type')['title'].nunique().reset_index()\n",
    "x"
   ]
  },
  {
   "cell_type": "code",
   "execution_count": 183,
   "id": "93ff5188",
   "metadata": {},
   "outputs": [
    {
     "data": {
      "image/png": "[encoded data removed]",
      "text/plain": [
       "<Figure size 640x480 with 1 Axes>"
      ]
     },
     "metadata": {},
     "output_type": "display_data"
    }
   ],
   "source": [
    "plt.pie(x['title'], labels = x['type'], autopct='%1.1f%%', startangle=90)\n",
    "plt.show() "
   ]
  },
  {
   "cell_type": "markdown",
   "id": "5375eaa9",
   "metadata": {},
   "source": [
    "#### Here if we compare 2005-2015 with 2015-2023 movie has increased 107% and Tv show has increased 275%"
   ]
  },
  {
   "cell_type": "code",
   "execution_count": 184,
   "id": "0e9e6aee",
   "metadata": {},
   "outputs": [
    {
     "data": {
      "text/html": [
       "<div>\n",
       "<style scoped>\n",
       "    .dataframe tbody tr th:only-of-type {\n",
       "        vertical-align: middle;\n",
       "    }\n",
       "\n",
       "    .dataframe tbody tr th {\n",
       "        vertical-align: top;\n",
       "    }\n",
       "\n",
       "    .dataframe thead th {\n",
       "        text-align: right;\n",
       "    }\n",
       "</style>\n",
       "<table border=\"1\" class=\"dataframe\">\n",
       "  <thead>\n",
       "    <tr style=\"text-align: right;\">\n",
       "      <th>bin_year</th>\n",
       "      <th>1925-1935</th>\n",
       "      <th>1935-1945</th>\n",
       "      <th>1945-1955</th>\n",
       "      <th>1955-1965</th>\n",
       "      <th>1965-1975</th>\n",
       "      <th>1975-1985</th>\n",
       "      <th>1985-1995</th>\n",
       "      <th>1995-2005</th>\n",
       "      <th>2005-2015</th>\n",
       "      <th>2015-2023</th>\n",
       "    </tr>\n",
       "    <tr>\n",
       "      <th>type</th>\n",
       "      <th></th>\n",
       "      <th></th>\n",
       "      <th></th>\n",
       "      <th></th>\n",
       "      <th></th>\n",
       "      <th></th>\n",
       "      <th></th>\n",
       "      <th></th>\n",
       "      <th></th>\n",
       "      <th></th>\n",
       "    </tr>\n",
       "  </thead>\n",
       "  <tbody>\n",
       "    <tr>\n",
       "      <th>Movie</th>\n",
       "      <td>0</td>\n",
       "      <td>11</td>\n",
       "      <td>7</td>\n",
       "      <td>19</td>\n",
       "      <td>44</td>\n",
       "      <td>104</td>\n",
       "      <td>172</td>\n",
       "      <td>409</td>\n",
       "      <td>1744</td>\n",
       "      <td>3618</td>\n",
       "    </tr>\n",
       "    <tr>\n",
       "      <th>TV Show</th>\n",
       "      <td>1</td>\n",
       "      <td>1</td>\n",
       "      <td>1</td>\n",
       "      <td>1</td>\n",
       "      <td>3</td>\n",
       "      <td>4</td>\n",
       "      <td>20</td>\n",
       "      <td>66</td>\n",
       "      <td>542</td>\n",
       "      <td>2037</td>\n",
       "    </tr>\n",
       "  </tbody>\n",
       "</table>\n",
       "</div>"
      ],
      "text/plain": [
       "bin_year  1925-1935  1935-1945  1945-1955  1955-1965  1965-1975  1975-1985  \\\n",
       "type                                                                         \n",
       "Movie             0         11          7         19         44        104   \n",
       "TV Show           1          1          1          1          3          4   \n",
       "\n",
       "bin_year  1985-1995  1995-2005  2005-2015  2015-2023  \n",
       "type                                                  \n",
       "Movie           172        409       1744       3618  \n",
       "TV Show          20         66        542       2037  "
      ]
     },
     "execution_count": 184,
     "metadata": {},
     "output_type": "execute_result"
    }
   ],
   "source": [
    "df_bin.pivot(index='type', columns='bin_year', values='title')"
   ]
  },
  {
   "cell_type": "markdown",
   "id": "5ed1d94c",
   "metadata": {},
   "source": [
    "->>>>>>>>>>>>>>>>>>>>>>>>>>>>>>>>>>>>>>>>>>>>>>>>>>>>>>>>>>>>>>>>>>>>>>>>>>>>>>>>>>>>>>>>>>Increasing "
   ]
  },
  {
   "cell_type": "code",
   "execution_count": 185,
   "id": "bd78733c",
   "metadata": {},
   "outputs": [
    {
     "data": {
      "text/plain": [
       "107.45412844036697"
      ]
     },
     "execution_count": 185,
     "metadata": {},
     "output_type": "execute_result"
    }
   ],
   "source": [
    "movie_percentage_increment=(3618-1744)/1744*100\n",
    "movie_percentage_increment"
   ]
  },
  {
   "cell_type": "code",
   "execution_count": 186,
   "id": "c0e9e6a1",
   "metadata": {},
   "outputs": [
    {
     "data": {
      "text/plain": [
       "275.83025830258305"
      ]
     },
     "execution_count": 186,
     "metadata": {},
     "output_type": "execute_result"
    }
   ],
   "source": [
    "Tvshow_percentage_increment=(2037-542)/542*100\n",
    "Tvshow_percentage_increment"
   ]
  },
  {
   "cell_type": "code",
   "execution_count": 187,
   "id": "e148e8a7",
   "metadata": {},
   "outputs": [
    {
     "data": {
      "image/png": "[encoded data removed]",
      "text/plain": [
       "<Figure size 640x480 with 1 Axes>"
      ]
     },
     "metadata": {},
     "output_type": "display_data"
    }
   ],
   "source": [
    "sns.barplot(data=df_bin, x='bin_year', y='title', hue='type')\n",
    "plt.xticks(rotation=45)\n",
    "plt.show()"
   ]
  },
  {
   "cell_type": "markdown",
   "id": "c49e2373",
   "metadata": {},
   "source": [
    "% of TvShow has been increasing rapidly but No of movie release is still more than tvshows"
   ]
  },
  {
   "cell_type": "markdown",
   "id": "8521e367",
   "metadata": {},
   "source": [
    "#### In recent year TV Show has increased 275% and Movies has increased 107% that means Netflix has more focus on TV Shows than movies in recent years"
   ]
  },
  {
   "cell_type": "code",
   "execution_count": 188,
   "id": "fd5bf602",
   "metadata": {},
   "outputs": [
    {
     "data": {
      "image/png": "[encoded data removed]",
      "text/plain": [
       "<Figure size 640x480 with 1 Axes>"
      ]
     },
     "metadata": {},
     "output_type": "display_data"
    }
   ],
   "source": [
    "sns.lineplot(data=df_title_count, x='release_year', y=\"title\",hue='type')\n",
    "plt.show()"
   ]
  },
  {
   "cell_type": "markdown",
   "id": "276d396a",
   "metadata": {},
   "source": [
    "#### Best time to launch a TV show"
   ]
  },
  {
   "cell_type": "markdown",
   "id": "ec7c2ba4",
   "metadata": {},
   "source": [
    "#### Netflix is Launching maximum of TV Show in January and december"
   ]
  },
  {
   "cell_type": "code",
   "execution_count": 189,
   "id": "857b058e",
   "metadata": {},
   "outputs": [
    {
     "data": {
      "text/plain": [
       "1     5687\n",
       "12    5341\n",
       "7     5129\n",
       "8     5029\n",
       "6     4959\n",
       "9     4818\n",
       "4     4460\n",
       "11    4428\n",
       "3     4201\n",
       "10    4199\n",
       "5     4111\n",
       "2     3786\n",
       "Name: date, dtype: int64"
      ]
     },
     "execution_count": 189,
     "metadata": {},
     "output_type": "execute_result"
    }
   ],
   "source": [
    "df_combined[df_combined['type']=='TV Show']['date'].dt.month.reset_index(drop=True).value_counts()"
   ]
  },
  {
   "cell_type": "markdown",
   "id": "5fbd4093",
   "metadata": {},
   "source": [
    "### Understanding what content is available in different countries"
   ]
  },
  {
   "cell_type": "markdown",
   "id": "1dc3603e",
   "metadata": {},
   "source": [
    "#### According to the data that india has high demand for international Movies."
   ]
  },
  {
   "cell_type": "code",
   "execution_count": 190,
   "id": "37f9d906",
   "metadata": {},
   "outputs": [
    {
     "data": {
      "text/html": [
       "<div>\n",
       "<style scoped>\n",
       "    .dataframe tbody tr th:only-of-type {\n",
       "        vertical-align: middle;\n",
       "    }\n",
       "\n",
       "    .dataframe tbody tr th {\n",
       "        vertical-align: top;\n",
       "    }\n",
       "\n",
       "    .dataframe thead th {\n",
       "        text-align: right;\n",
       "    }\n",
       "</style>\n",
       "<table border=\"1\" class=\"dataframe\">\n",
       "  <thead>\n",
       "    <tr style=\"text-align: right;\">\n",
       "      <th></th>\n",
       "      <th>country</th>\n",
       "      <th>genres</th>\n",
       "      <th>movie_count</th>\n",
       "    </tr>\n",
       "  </thead>\n",
       "  <tbody>\n",
       "    <tr>\n",
       "      <th>1560</th>\n",
       "      <td>India</td>\n",
       "      <td>International Movies</td>\n",
       "      <td>837</td>\n",
       "    </tr>\n",
       "    <tr>\n",
       "      <th>2423</th>\n",
       "      <td>United States</td>\n",
       "      <td>Documentaries</td>\n",
       "      <td>496</td>\n",
       "    </tr>\n",
       "    <tr>\n",
       "      <th>2425</th>\n",
       "      <td>United States</td>\n",
       "      <td>Dramas</td>\n",
       "      <td>495</td>\n",
       "    </tr>\n",
       "    <tr>\n",
       "      <th>2420</th>\n",
       "      <td>United States</td>\n",
       "      <td>Comedies</td>\n",
       "      <td>433</td>\n",
       "    </tr>\n",
       "    <tr>\n",
       "      <th>1589</th>\n",
       "      <td>India</td>\n",
       "      <td>Dramas</td>\n",
       "      <td>415</td>\n",
       "    </tr>\n",
       "    <tr>\n",
       "      <th>2417</th>\n",
       "      <td>United States</td>\n",
       "      <td>Children &amp; Family Movies</td>\n",
       "      <td>406</td>\n",
       "    </tr>\n",
       "    <tr>\n",
       "      <th>2413</th>\n",
       "      <td>United States</td>\n",
       "      <td>Action &amp; Adventure</td>\n",
       "      <td>357</td>\n",
       "    </tr>\n",
       "    <tr>\n",
       "      <th>2388</th>\n",
       "      <td>United States</td>\n",
       "      <td>Independent Movies</td>\n",
       "      <td>329</td>\n",
       "    </tr>\n",
       "    <tr>\n",
       "      <th>2385</th>\n",
       "      <td>United States</td>\n",
       "      <td>Dramas</td>\n",
       "      <td>275</td>\n",
       "    </tr>\n",
       "    <tr>\n",
       "      <th>1584</th>\n",
       "      <td>India</td>\n",
       "      <td>Comedies</td>\n",
       "      <td>274</td>\n",
       "    </tr>\n",
       "  </tbody>\n",
       "</table>\n",
       "</div>"
      ],
      "text/plain": [
       "            country                    genres  movie_count\n",
       "1560          India      International Movies          837\n",
       "2423  United States             Documentaries          496\n",
       "2425  United States                    Dramas          495\n",
       "2420  United States                  Comedies          433\n",
       "1589          India                    Dramas          415\n",
       "2417  United States  Children & Family Movies          406\n",
       "2413  United States        Action & Adventure          357\n",
       "2388  United States        Independent Movies          329\n",
       "2385  United States                    Dramas          275\n",
       "1584          India                  Comedies          274"
      ]
     },
     "execution_count": 190,
     "metadata": {},
     "output_type": "execute_result"
    }
   ],
   "source": [
    "data_cg=df_combined.groupby(['country','genres'])['title'].nunique().reset_index()\n",
    "data_cg.columns=['country','genres','movie_count']\n",
    "data_cg.sort_values('movie_count',ascending=False).head(10)"
   ]
  },
  {
   "cell_type": "markdown",
   "id": "5b29c4fd",
   "metadata": {},
   "source": [
    "#### Demands in United States"
   ]
  },
  {
   "cell_type": "code",
   "execution_count": 191,
   "id": "a7469e23",
   "metadata": {},
   "outputs": [
    {
     "data": {
      "text/html": [
       "<div>\n",
       "<style scoped>\n",
       "    .dataframe tbody tr th:only-of-type {\n",
       "        vertical-align: middle;\n",
       "    }\n",
       "\n",
       "    .dataframe tbody tr th {\n",
       "        vertical-align: top;\n",
       "    }\n",
       "\n",
       "    .dataframe thead th {\n",
       "        text-align: right;\n",
       "    }\n",
       "</style>\n",
       "<table border=\"1\" class=\"dataframe\">\n",
       "  <thead>\n",
       "    <tr style=\"text-align: right;\">\n",
       "      <th></th>\n",
       "      <th>country</th>\n",
       "      <th>genres</th>\n",
       "      <th>movie_count</th>\n",
       "    </tr>\n",
       "  </thead>\n",
       "  <tbody>\n",
       "    <tr>\n",
       "      <th>2423</th>\n",
       "      <td>United States</td>\n",
       "      <td>Documentaries</td>\n",
       "      <td>496</td>\n",
       "    </tr>\n",
       "    <tr>\n",
       "      <th>2425</th>\n",
       "      <td>United States</td>\n",
       "      <td>Dramas</td>\n",
       "      <td>495</td>\n",
       "    </tr>\n",
       "    <tr>\n",
       "      <th>2420</th>\n",
       "      <td>United States</td>\n",
       "      <td>Comedies</td>\n",
       "      <td>433</td>\n",
       "    </tr>\n",
       "    <tr>\n",
       "      <th>2417</th>\n",
       "      <td>United States</td>\n",
       "      <td>Children &amp; Family Movies</td>\n",
       "      <td>406</td>\n",
       "    </tr>\n",
       "    <tr>\n",
       "      <th>2413</th>\n",
       "      <td>United States</td>\n",
       "      <td>Action &amp; Adventure</td>\n",
       "      <td>357</td>\n",
       "    </tr>\n",
       "  </tbody>\n",
       "</table>\n",
       "</div>"
      ],
      "text/plain": [
       "            country                    genres  movie_count\n",
       "2423  United States             Documentaries          496\n",
       "2425  United States                    Dramas          495\n",
       "2420  United States                  Comedies          433\n",
       "2417  United States  Children & Family Movies          406\n",
       "2413  United States        Action & Adventure          357"
      ]
     },
     "execution_count": 191,
     "metadata": {},
     "output_type": "execute_result"
    }
   ],
   "source": [
    "data_cg[data_cg['country']=='United States'].sort_values('movie_count',ascending=False).head()"
   ]
  },
  {
   "cell_type": "markdown",
   "id": "b553bb69",
   "metadata": {},
   "source": [
    "#### Highest demands in each Country"
   ]
  },
  {
   "cell_type": "code",
   "execution_count": 192,
   "id": "5d7f7bb1",
   "metadata": {},
   "outputs": [
    {
     "data": {
      "text/html": [
       "<div>\n",
       "<style scoped>\n",
       "    .dataframe tbody tr th:only-of-type {\n",
       "        vertical-align: middle;\n",
       "    }\n",
       "\n",
       "    .dataframe tbody tr th {\n",
       "        vertical-align: top;\n",
       "    }\n",
       "\n",
       "    .dataframe thead th {\n",
       "        text-align: right;\n",
       "    }\n",
       "</style>\n",
       "<table border=\"1\" class=\"dataframe\">\n",
       "  <thead>\n",
       "    <tr style=\"text-align: right;\">\n",
       "      <th></th>\n",
       "      <th>country</th>\n",
       "      <th>movie_count</th>\n",
       "    </tr>\n",
       "  </thead>\n",
       "  <tbody>\n",
       "    <tr>\n",
       "      <th>141</th>\n",
       "      <td>India</td>\n",
       "      <td>837</td>\n",
       "    </tr>\n",
       "    <tr>\n",
       "      <th>191</th>\n",
       "      <td>United States</td>\n",
       "      <td>496</td>\n",
       "    </tr>\n",
       "    <tr>\n",
       "      <th>190</th>\n",
       "      <td>United Kingdom</td>\n",
       "      <td>219</td>\n",
       "    </tr>\n",
       "    <tr>\n",
       "      <th>148</th>\n",
       "      <td>Japan</td>\n",
       "      <td>154</td>\n",
       "    </tr>\n",
       "    <tr>\n",
       "      <th>179</th>\n",
       "      <td>South Korea</td>\n",
       "      <td>138</td>\n",
       "    </tr>\n",
       "  </tbody>\n",
       "</table>\n",
       "</div>"
      ],
      "text/plain": [
       "            country  movie_count\n",
       "141           India          837\n",
       "191   United States          496\n",
       "190  United Kingdom          219\n",
       "148           Japan          154\n",
       "179     South Korea          138"
      ]
     },
     "execution_count": 192,
     "metadata": {},
     "output_type": "execute_result"
    }
   ],
   "source": [
    "temp=data_cg.groupby('country')['movie_count'].max().reset_index()\n",
    "temp.sort_values('movie_count',ascending=False).head()"
   ]
  },
  {
   "cell_type": "code",
   "execution_count": 193,
   "id": "7dfb8c9a",
   "metadata": {},
   "outputs": [
    {
     "data": {
      "text/html": [
       "<div>\n",
       "<style scoped>\n",
       "    .dataframe tbody tr th:only-of-type {\n",
       "        vertical-align: middle;\n",
       "    }\n",
       "\n",
       "    .dataframe tbody tr th {\n",
       "        vertical-align: top;\n",
       "    }\n",
       "\n",
       "    .dataframe thead th {\n",
       "        text-align: right;\n",
       "    }\n",
       "</style>\n",
       "<table border=\"1\" class=\"dataframe\">\n",
       "  <thead>\n",
       "    <tr style=\"text-align: right;\">\n",
       "      <th></th>\n",
       "      <th>country</th>\n",
       "      <th>genres</th>\n",
       "      <th>movie_count</th>\n",
       "    </tr>\n",
       "  </thead>\n",
       "  <tbody>\n",
       "    <tr>\n",
       "      <th>141</th>\n",
       "      <td>India</td>\n",
       "      <td>TV Shows</td>\n",
       "      <td>837</td>\n",
       "    </tr>\n",
       "    <tr>\n",
       "      <th>191</th>\n",
       "      <td>United States</td>\n",
       "      <td>Thrillers</td>\n",
       "      <td>496</td>\n",
       "    </tr>\n",
       "    <tr>\n",
       "      <th>190</th>\n",
       "      <td>United Kingdom</td>\n",
       "      <td>Thrillers</td>\n",
       "      <td>219</td>\n",
       "    </tr>\n",
       "    <tr>\n",
       "      <th>148</th>\n",
       "      <td>Japan</td>\n",
       "      <td>TV Shows</td>\n",
       "      <td>154</td>\n",
       "    </tr>\n",
       "    <tr>\n",
       "      <th>179</th>\n",
       "      <td>South Korea</td>\n",
       "      <td>Stand-Up Comedy</td>\n",
       "      <td>138</td>\n",
       "    </tr>\n",
       "  </tbody>\n",
       "</table>\n",
       "</div>"
      ],
      "text/plain": [
       "            country           genres  movie_count\n",
       "141           India         TV Shows          837\n",
       "191   United States        Thrillers          496\n",
       "190  United Kingdom        Thrillers          219\n",
       "148           Japan         TV Shows          154\n",
       "179     South Korea  Stand-Up Comedy          138"
      ]
     },
     "execution_count": 193,
     "metadata": {},
     "output_type": "execute_result"
    }
   ],
   "source": [
    "data_cg.groupby('country',as_index=False).max().sort_values('movie_count',ascending=False).head()"
   ]
  },
  {
   "cell_type": "markdown",
   "id": "c955435e",
   "metadata": {},
   "source": [
    "### which rating show increasing these days"
   ]
  },
  {
   "cell_type": "code",
   "execution_count": 194,
   "id": "051c37e7",
   "metadata": {},
   "outputs": [
    {
     "data": {
      "text/plain": [
       "array(['TV-MA', 'TV-14', 'TV-G', 'TV-PG', 'NR', 'PG-13', 'TV-Y', 'R',\n",
       "       'TV-Y7', 'PG', 'G', 'NC-17', 'TV-Y7-FV', 'UR'], dtype=object)"
      ]
     },
     "execution_count": 194,
     "metadata": {},
     "output_type": "execute_result"
    }
   ],
   "source": [
    "df_movie['rating'].unique()"
   ]
  },
  {
   "cell_type": "code",
   "execution_count": 195,
   "id": "07254fc0",
   "metadata": {},
   "outputs": [
    {
     "data": {
      "text/html": [
       "<div>\n",
       "<style scoped>\n",
       "    .dataframe tbody tr th:only-of-type {\n",
       "        vertical-align: middle;\n",
       "    }\n",
       "\n",
       "    .dataframe tbody tr th {\n",
       "        vertical-align: top;\n",
       "    }\n",
       "\n",
       "    .dataframe thead th {\n",
       "        text-align: right;\n",
       "    }\n",
       "</style>\n",
       "<table border=\"1\" class=\"dataframe\">\n",
       "  <thead>\n",
       "    <tr style=\"text-align: right;\">\n",
       "      <th></th>\n",
       "      <th>release_year</th>\n",
       "      <th>rating</th>\n",
       "      <th>title</th>\n",
       "    </tr>\n",
       "  </thead>\n",
       "  <tbody>\n",
       "    <tr>\n",
       "      <th>403</th>\n",
       "      <td>2018</td>\n",
       "      <td>TV-MA</td>\n",
       "      <td>549</td>\n",
       "    </tr>\n",
       "    <tr>\n",
       "      <th>414</th>\n",
       "      <td>2019</td>\n",
       "      <td>TV-MA</td>\n",
       "      <td>500</td>\n",
       "    </tr>\n",
       "    <tr>\n",
       "      <th>424</th>\n",
       "      <td>2020</td>\n",
       "      <td>TV-MA</td>\n",
       "      <td>469</td>\n",
       "    </tr>\n",
       "    <tr>\n",
       "      <th>391</th>\n",
       "      <td>2017</td>\n",
       "      <td>TV-MA</td>\n",
       "      <td>452</td>\n",
       "    </tr>\n",
       "    <tr>\n",
       "      <th>378</th>\n",
       "      <td>2016</td>\n",
       "      <td>TV-MA</td>\n",
       "      <td>341</td>\n",
       "    </tr>\n",
       "    <tr>\n",
       "      <th>...</th>\n",
       "      <td>...</td>\n",
       "      <td>...</td>\n",
       "      <td>...</td>\n",
       "    </tr>\n",
       "    <tr>\n",
       "      <th>199</th>\n",
       "      <td>1997</td>\n",
       "      <td>TV-Y7</td>\n",
       "      <td>1</td>\n",
       "    </tr>\n",
       "    <tr>\n",
       "      <th>103</th>\n",
       "      <td>1983</td>\n",
       "      <td>PG</td>\n",
       "      <td>1</td>\n",
       "    </tr>\n",
       "    <tr>\n",
       "      <th>97</th>\n",
       "      <td>1981</td>\n",
       "      <td>TV-Y7</td>\n",
       "      <td>1</td>\n",
       "    </tr>\n",
       "    <tr>\n",
       "      <th>96</th>\n",
       "      <td>1981</td>\n",
       "      <td>TV-PG</td>\n",
       "      <td>1</td>\n",
       "    </tr>\n",
       "    <tr>\n",
       "      <th>0</th>\n",
       "      <td>1925</td>\n",
       "      <td>TV-14</td>\n",
       "      <td>1</td>\n",
       "    </tr>\n",
       "  </tbody>\n",
       "</table>\n",
       "<p>437 rows × 3 columns</p>\n",
       "</div>"
      ],
      "text/plain": [
       "     release_year rating  title\n",
       "403          2018  TV-MA    549\n",
       "414          2019  TV-MA    500\n",
       "424          2020  TV-MA    469\n",
       "391          2017  TV-MA    452\n",
       "378          2016  TV-MA    341\n",
       "..            ...    ...    ...\n",
       "199          1997  TV-Y7      1\n",
       "103          1983     PG      1\n",
       "97           1981  TV-Y7      1\n",
       "96           1981  TV-PG      1\n",
       "0            1925  TV-14      1\n",
       "\n",
       "[437 rows x 3 columns]"
      ]
     },
     "execution_count": 195,
     "metadata": {},
     "output_type": "execute_result"
    }
   ],
   "source": [
    "df_title_count_rating=df_movie.groupby(['release_year','rating'])['title'].count().reset_index()\n",
    "df_title_count_rating.sort_values('title',ascending=False)"
   ]
  },
  {
   "cell_type": "code",
   "execution_count": 196,
   "id": "d2c41c6f",
   "metadata": {},
   "outputs": [],
   "source": [
    "df_title_count_rating['bin_year']=year_bin(df_title_count_rating,cut_points,labels)"
   ]
  },
  {
   "cell_type": "code",
   "execution_count": 197,
   "id": "413107fc",
   "metadata": {},
   "outputs": [
    {
     "data": {
      "text/html": [
       "<div>\n",
       "<style scoped>\n",
       "    .dataframe tbody tr th:only-of-type {\n",
       "        vertical-align: middle;\n",
       "    }\n",
       "\n",
       "    .dataframe tbody tr th {\n",
       "        vertical-align: top;\n",
       "    }\n",
       "\n",
       "    .dataframe thead th {\n",
       "        text-align: right;\n",
       "    }\n",
       "</style>\n",
       "<table border=\"1\" class=\"dataframe\">\n",
       "  <thead>\n",
       "    <tr style=\"text-align: right;\">\n",
       "      <th></th>\n",
       "      <th>release_year</th>\n",
       "      <th>rating</th>\n",
       "      <th>title</th>\n",
       "      <th>bin_year</th>\n",
       "    </tr>\n",
       "  </thead>\n",
       "  <tbody>\n",
       "    <tr>\n",
       "      <th>0</th>\n",
       "      <td>1925</td>\n",
       "      <td>TV-14</td>\n",
       "      <td>1</td>\n",
       "      <td>1925-1935</td>\n",
       "    </tr>\n",
       "    <tr>\n",
       "      <th>1</th>\n",
       "      <td>1942</td>\n",
       "      <td>TV-14</td>\n",
       "      <td>2</td>\n",
       "      <td>1935-1945</td>\n",
       "    </tr>\n",
       "    <tr>\n",
       "      <th>2</th>\n",
       "      <td>1943</td>\n",
       "      <td>TV-PG</td>\n",
       "      <td>3</td>\n",
       "      <td>1935-1945</td>\n",
       "    </tr>\n",
       "    <tr>\n",
       "      <th>3</th>\n",
       "      <td>1944</td>\n",
       "      <td>TV-14</td>\n",
       "      <td>2</td>\n",
       "      <td>1935-1945</td>\n",
       "    </tr>\n",
       "    <tr>\n",
       "      <th>4</th>\n",
       "      <td>1944</td>\n",
       "      <td>TV-PG</td>\n",
       "      <td>1</td>\n",
       "      <td>1935-1945</td>\n",
       "    </tr>\n",
       "    <tr>\n",
       "      <th>...</th>\n",
       "      <td>...</td>\n",
       "      <td>...</td>\n",
       "      <td>...</td>\n",
       "      <td>...</td>\n",
       "    </tr>\n",
       "    <tr>\n",
       "      <th>432</th>\n",
       "      <td>2021</td>\n",
       "      <td>TV-G</td>\n",
       "      <td>21</td>\n",
       "      <td>2015-2023</td>\n",
       "    </tr>\n",
       "    <tr>\n",
       "      <th>433</th>\n",
       "      <td>2021</td>\n",
       "      <td>TV-MA</td>\n",
       "      <td>270</td>\n",
       "      <td>2015-2023</td>\n",
       "    </tr>\n",
       "    <tr>\n",
       "      <th>434</th>\n",
       "      <td>2021</td>\n",
       "      <td>TV-PG</td>\n",
       "      <td>45</td>\n",
       "      <td>2015-2023</td>\n",
       "    </tr>\n",
       "    <tr>\n",
       "      <th>435</th>\n",
       "      <td>2021</td>\n",
       "      <td>TV-Y</td>\n",
       "      <td>26</td>\n",
       "      <td>2015-2023</td>\n",
       "    </tr>\n",
       "    <tr>\n",
       "      <th>436</th>\n",
       "      <td>2021</td>\n",
       "      <td>TV-Y7</td>\n",
       "      <td>33</td>\n",
       "      <td>2015-2023</td>\n",
       "    </tr>\n",
       "  </tbody>\n",
       "</table>\n",
       "<p>437 rows × 4 columns</p>\n",
       "</div>"
      ],
      "text/plain": [
       "     release_year rating  title   bin_year\n",
       "0            1925  TV-14      1  1925-1935\n",
       "1            1942  TV-14      2  1935-1945\n",
       "2            1943  TV-PG      3  1935-1945\n",
       "3            1944  TV-14      2  1935-1945\n",
       "4            1944  TV-PG      1  1935-1945\n",
       "..            ...    ...    ...        ...\n",
       "432          2021   TV-G     21  2015-2023\n",
       "433          2021  TV-MA    270  2015-2023\n",
       "434          2021  TV-PG     45  2015-2023\n",
       "435          2021   TV-Y     26  2015-2023\n",
       "436          2021  TV-Y7     33  2015-2023\n",
       "\n",
       "[437 rows x 4 columns]"
      ]
     },
     "execution_count": 197,
     "metadata": {},
     "output_type": "execute_result"
    }
   ],
   "source": [
    "df_title_count_rating"
   ]
  },
  {
   "cell_type": "code",
   "execution_count": 198,
   "id": "090f2310",
   "metadata": {},
   "outputs": [],
   "source": [
    "df_rating_bin=df_title_count_rating.groupby(['bin_year','rating'])['title'].sum().reset_index()"
   ]
  },
  {
   "cell_type": "code",
   "execution_count": 199,
   "id": "a509ec45",
   "metadata": {},
   "outputs": [
    {
     "data": {
      "text/html": [
       "<div>\n",
       "<style scoped>\n",
       "    .dataframe tbody tr th:only-of-type {\n",
       "        vertical-align: middle;\n",
       "    }\n",
       "\n",
       "    .dataframe tbody tr th {\n",
       "        vertical-align: top;\n",
       "    }\n",
       "\n",
       "    .dataframe thead th {\n",
       "        text-align: right;\n",
       "    }\n",
       "</style>\n",
       "<table border=\"1\" class=\"dataframe\">\n",
       "  <thead>\n",
       "    <tr style=\"text-align: right;\">\n",
       "      <th>bin_year</th>\n",
       "      <th>1925-1935</th>\n",
       "      <th>1935-1945</th>\n",
       "      <th>1945-1955</th>\n",
       "      <th>1955-1965</th>\n",
       "      <th>1965-1975</th>\n",
       "      <th>1975-1985</th>\n",
       "      <th>1985-1995</th>\n",
       "      <th>1995-2005</th>\n",
       "      <th>2005-2015</th>\n",
       "      <th>2015-2023</th>\n",
       "    </tr>\n",
       "    <tr>\n",
       "      <th>rating</th>\n",
       "      <th></th>\n",
       "      <th></th>\n",
       "      <th></th>\n",
       "      <th></th>\n",
       "      <th></th>\n",
       "      <th></th>\n",
       "      <th></th>\n",
       "      <th></th>\n",
       "      <th></th>\n",
       "      <th></th>\n",
       "    </tr>\n",
       "  </thead>\n",
       "  <tbody>\n",
       "    <tr>\n",
       "      <th>TV-MA</th>\n",
       "      <td>0</td>\n",
       "      <td>2</td>\n",
       "      <td>0</td>\n",
       "      <td>1</td>\n",
       "      <td>7</td>\n",
       "      <td>17</td>\n",
       "      <td>22</td>\n",
       "      <td>51</td>\n",
       "      <td>530</td>\n",
       "      <td>2581</td>\n",
       "    </tr>\n",
       "    <tr>\n",
       "      <th>TV-14</th>\n",
       "      <td>1</td>\n",
       "      <td>6</td>\n",
       "      <td>3</td>\n",
       "      <td>9</td>\n",
       "      <td>11</td>\n",
       "      <td>38</td>\n",
       "      <td>43</td>\n",
       "      <td>104</td>\n",
       "      <td>631</td>\n",
       "      <td>1314</td>\n",
       "    </tr>\n",
       "    <tr>\n",
       "      <th>TV-PG</th>\n",
       "      <td>0</td>\n",
       "      <td>4</td>\n",
       "      <td>3</td>\n",
       "      <td>4</td>\n",
       "      <td>6</td>\n",
       "      <td>11</td>\n",
       "      <td>19</td>\n",
       "      <td>39</td>\n",
       "      <td>241</td>\n",
       "      <td>536</td>\n",
       "    </tr>\n",
       "    <tr>\n",
       "      <th>R</th>\n",
       "      <td>0</td>\n",
       "      <td>0</td>\n",
       "      <td>0</td>\n",
       "      <td>1</td>\n",
       "      <td>10</td>\n",
       "      <td>15</td>\n",
       "      <td>41</td>\n",
       "      <td>111</td>\n",
       "      <td>302</td>\n",
       "      <td>319</td>\n",
       "    </tr>\n",
       "    <tr>\n",
       "      <th>TV-Y</th>\n",
       "      <td>0</td>\n",
       "      <td>0</td>\n",
       "      <td>0</td>\n",
       "      <td>0</td>\n",
       "      <td>0</td>\n",
       "      <td>0</td>\n",
       "      <td>1</td>\n",
       "      <td>3</td>\n",
       "      <td>65</td>\n",
       "      <td>238</td>\n",
       "    </tr>\n",
       "    <tr>\n",
       "      <th>TV-Y7</th>\n",
       "      <td>0</td>\n",
       "      <td>0</td>\n",
       "      <td>0</td>\n",
       "      <td>0</td>\n",
       "      <td>0</td>\n",
       "      <td>1</td>\n",
       "      <td>2</td>\n",
       "      <td>17</td>\n",
       "      <td>94</td>\n",
       "      <td>220</td>\n",
       "    </tr>\n",
       "    <tr>\n",
       "      <th>TV-G</th>\n",
       "      <td>0</td>\n",
       "      <td>0</td>\n",
       "      <td>1</td>\n",
       "      <td>0</td>\n",
       "      <td>1</td>\n",
       "      <td>1</td>\n",
       "      <td>4</td>\n",
       "      <td>6</td>\n",
       "      <td>44</td>\n",
       "      <td>163</td>\n",
       "    </tr>\n",
       "    <tr>\n",
       "      <th>PG-13</th>\n",
       "      <td>0</td>\n",
       "      <td>0</td>\n",
       "      <td>1</td>\n",
       "      <td>1</td>\n",
       "      <td>1</td>\n",
       "      <td>2</td>\n",
       "      <td>34</td>\n",
       "      <td>95</td>\n",
       "      <td>206</td>\n",
       "      <td>150</td>\n",
       "    </tr>\n",
       "    <tr>\n",
       "      <th>PG</th>\n",
       "      <td>0</td>\n",
       "      <td>0</td>\n",
       "      <td>0</td>\n",
       "      <td>0</td>\n",
       "      <td>4</td>\n",
       "      <td>20</td>\n",
       "      <td>19</td>\n",
       "      <td>35</td>\n",
       "      <td>111</td>\n",
       "      <td>98</td>\n",
       "    </tr>\n",
       "    <tr>\n",
       "      <th>NR</th>\n",
       "      <td>0</td>\n",
       "      <td>0</td>\n",
       "      <td>0</td>\n",
       "      <td>1</td>\n",
       "      <td>1</td>\n",
       "      <td>2</td>\n",
       "      <td>3</td>\n",
       "      <td>2</td>\n",
       "      <td>48</td>\n",
       "      <td>23</td>\n",
       "    </tr>\n",
       "    <tr>\n",
       "      <th>G</th>\n",
       "      <td>0</td>\n",
       "      <td>0</td>\n",
       "      <td>0</td>\n",
       "      <td>3</td>\n",
       "      <td>5</td>\n",
       "      <td>1</td>\n",
       "      <td>4</td>\n",
       "      <td>12</td>\n",
       "      <td>8</td>\n",
       "      <td>8</td>\n",
       "    </tr>\n",
       "    <tr>\n",
       "      <th>TV-Y7-FV</th>\n",
       "      <td>0</td>\n",
       "      <td>0</td>\n",
       "      <td>0</td>\n",
       "      <td>0</td>\n",
       "      <td>0</td>\n",
       "      <td>0</td>\n",
       "      <td>0</td>\n",
       "      <td>0</td>\n",
       "      <td>3</td>\n",
       "      <td>3</td>\n",
       "    </tr>\n",
       "    <tr>\n",
       "      <th>NC-17</th>\n",
       "      <td>0</td>\n",
       "      <td>0</td>\n",
       "      <td>0</td>\n",
       "      <td>0</td>\n",
       "      <td>0</td>\n",
       "      <td>0</td>\n",
       "      <td>0</td>\n",
       "      <td>0</td>\n",
       "      <td>2</td>\n",
       "      <td>1</td>\n",
       "    </tr>\n",
       "    <tr>\n",
       "      <th>UR</th>\n",
       "      <td>0</td>\n",
       "      <td>0</td>\n",
       "      <td>0</td>\n",
       "      <td>0</td>\n",
       "      <td>1</td>\n",
       "      <td>0</td>\n",
       "      <td>0</td>\n",
       "      <td>0</td>\n",
       "      <td>1</td>\n",
       "      <td>1</td>\n",
       "    </tr>\n",
       "  </tbody>\n",
       "</table>\n",
       "</div>"
      ],
      "text/plain": [
       "bin_year  1925-1935  1935-1945  1945-1955  1955-1965  1965-1975  1975-1985  \\\n",
       "rating                                                                       \n",
       "TV-MA             0          2          0          1          7         17   \n",
       "TV-14             1          6          3          9         11         38   \n",
       "TV-PG             0          4          3          4          6         11   \n",
       "R                 0          0          0          1         10         15   \n",
       "TV-Y              0          0          0          0          0          0   \n",
       "TV-Y7             0          0          0          0          0          1   \n",
       "TV-G              0          0          1          0          1          1   \n",
       "PG-13             0          0          1          1          1          2   \n",
       "PG                0          0          0          0          4         20   \n",
       "NR                0          0          0          1          1          2   \n",
       "G                 0          0          0          3          5          1   \n",
       "TV-Y7-FV          0          0          0          0          0          0   \n",
       "NC-17             0          0          0          0          0          0   \n",
       "UR                0          0          0          0          1          0   \n",
       "\n",
       "bin_year  1985-1995  1995-2005  2005-2015  2015-2023  \n",
       "rating                                                \n",
       "TV-MA            22         51        530       2581  \n",
       "TV-14            43        104        631       1314  \n",
       "TV-PG            19         39        241        536  \n",
       "R                41        111        302        319  \n",
       "TV-Y              1          3         65        238  \n",
       "TV-Y7             2         17         94        220  \n",
       "TV-G              4          6         44        163  \n",
       "PG-13            34         95        206        150  \n",
       "PG               19         35        111         98  \n",
       "NR                3          2         48         23  \n",
       "G                 4         12          8          8  \n",
       "TV-Y7-FV          0          0          3          3  \n",
       "NC-17             0          0          2          1  \n",
       "UR                0          0          1          1  "
      ]
     },
     "execution_count": 199,
     "metadata": {},
     "output_type": "execute_result"
    }
   ],
   "source": [
    "df_rating_bin.pivot(index='rating', columns='bin_year', values='title').sort_values('2015-2023',ascending=False)"
   ]
  },
  {
   "cell_type": "markdown",
   "id": "a041a53b",
   "metadata": {},
   "source": [
    "##### TV-MA and TV-14 has increased 386% and 108% in recent years"
   ]
  },
  {
   "cell_type": "markdown",
   "id": "57a1fc2a",
   "metadata": {},
   "source": [
    "*TV-MA is specifically designed to be viewed by adults and therefore may be unsuitable for children under 17"
   ]
  },
  {
   "cell_type": "code",
   "execution_count": 200,
   "id": "63306c63",
   "metadata": {},
   "outputs": [
    {
     "data": {
      "text/plain": [
       "386.9811320754717"
      ]
     },
     "execution_count": 200,
     "metadata": {},
     "output_type": "execute_result"
    }
   ],
   "source": [
    "(2581-530)/530*100   #using value of TV-MA in year 2005-2023 from above table "
   ]
  },
  {
   "cell_type": "code",
   "execution_count": 201,
   "id": "38d39a3c",
   "metadata": {},
   "outputs": [
    {
     "data": {
      "text/plain": [
       "108.24088748019018"
      ]
     },
     "execution_count": 201,
     "metadata": {},
     "output_type": "execute_result"
    }
   ],
   "source": [
    "(1314-631)/631*100   #using value of TV-14 in year 2005-2023 from above table "
   ]
  },
  {
   "cell_type": "markdown",
   "id": "4f9a56a2",
   "metadata": {},
   "source": [
    "#### Actor and Directors"
   ]
  },
  {
   "cell_type": "code",
   "execution_count": 202,
   "id": "bd6e8ca6",
   "metadata": {},
   "outputs": [
    {
     "data": {
      "text/html": [
       "<div>\n",
       "<style scoped>\n",
       "    .dataframe tbody tr th:only-of-type {\n",
       "        vertical-align: middle;\n",
       "    }\n",
       "\n",
       "    .dataframe tbody tr th {\n",
       "        vertical-align: top;\n",
       "    }\n",
       "\n",
       "    .dataframe thead th {\n",
       "        text-align: right;\n",
       "    }\n",
       "</style>\n",
       "<table border=\"1\" class=\"dataframe\">\n",
       "  <thead>\n",
       "    <tr style=\"text-align: right;\">\n",
       "      <th></th>\n",
       "      <th>cast</th>\n",
       "      <th>title</th>\n",
       "    </tr>\n",
       "  </thead>\n",
       "  <tbody>\n",
       "    <tr>\n",
       "      <th>1205</th>\n",
       "      <td>Alfred Molina</td>\n",
       "      <td>841</td>\n",
       "    </tr>\n",
       "    <tr>\n",
       "      <th>2612</th>\n",
       "      <td>Anupam Kher</td>\n",
       "      <td>39</td>\n",
       "    </tr>\n",
       "    <tr>\n",
       "      <th>26941</th>\n",
       "      <td>Rupa Bhimani</td>\n",
       "      <td>31</td>\n",
       "    </tr>\n",
       "    <tr>\n",
       "      <th>30303</th>\n",
       "      <td>Takahiro Sakurai</td>\n",
       "      <td>30</td>\n",
       "    </tr>\n",
       "    <tr>\n",
       "      <th>15541</th>\n",
       "      <td>Julie Tejwani</td>\n",
       "      <td>28</td>\n",
       "    </tr>\n",
       "  </tbody>\n",
       "</table>\n",
       "</div>"
      ],
      "text/plain": [
       "                    cast  title\n",
       "1205       Alfred Molina    841\n",
       "2612         Anupam Kher     39\n",
       "26941       Rupa Bhimani     31\n",
       "30303   Takahiro Sakurai     30\n",
       "15541      Julie Tejwani     28"
      ]
     },
     "execution_count": 202,
     "metadata": {},
     "output_type": "execute_result"
    }
   ],
   "source": [
    "# Top 5 Cast\n",
    "df_combined.groupby('cast')['title'].nunique().reset_index().sort_values('title',ascending=False).head()"
   ]
  },
  {
   "cell_type": "code",
   "execution_count": 203,
   "id": "e2ef249d",
   "metadata": {},
   "outputs": [
    {
     "data": {
      "text/html": [
       "<div>\n",
       "<style scoped>\n",
       "    .dataframe tbody tr th:only-of-type {\n",
       "        vertical-align: middle;\n",
       "    }\n",
       "\n",
       "    .dataframe tbody tr th {\n",
       "        vertical-align: top;\n",
       "    }\n",
       "\n",
       "    .dataframe thead th {\n",
       "        text-align: right;\n",
       "    }\n",
       "</style>\n",
       "<table border=\"1\" class=\"dataframe\">\n",
       "  <thead>\n",
       "    <tr style=\"text-align: right;\">\n",
       "      <th></th>\n",
       "      <th>directors</th>\n",
       "      <th>title</th>\n",
       "    </tr>\n",
       "  </thead>\n",
       "  <tbody>\n",
       "    <tr>\n",
       "      <th>3305</th>\n",
       "      <td>Martin Scorsese</td>\n",
       "      <td>2646</td>\n",
       "    </tr>\n",
       "    <tr>\n",
       "      <th>4019</th>\n",
       "      <td>Rajiv Chilaka</td>\n",
       "      <td>22</td>\n",
       "    </tr>\n",
       "    <tr>\n",
       "      <th>261</th>\n",
       "      <td>Jan Suter</td>\n",
       "      <td>18</td>\n",
       "    </tr>\n",
       "    <tr>\n",
       "      <th>4066</th>\n",
       "      <td>Raúl Campos</td>\n",
       "      <td>18</td>\n",
       "    </tr>\n",
       "    <tr>\n",
       "      <th>4650</th>\n",
       "      <td>Suhas Kadav</td>\n",
       "      <td>16</td>\n",
       "    </tr>\n",
       "  </tbody>\n",
       "</table>\n",
       "</div>"
      ],
      "text/plain": [
       "            directors  title\n",
       "3305  Martin Scorsese   2646\n",
       "4019    Rajiv Chilaka     22\n",
       "261         Jan Suter     18\n",
       "4066      Raúl Campos     18\n",
       "4650      Suhas Kadav     16"
      ]
     },
     "execution_count": 203,
     "metadata": {},
     "output_type": "execute_result"
    }
   ],
   "source": [
    "#Top 5 Directors\n",
    "df_combined.groupby('directors')['title'].nunique().reset_index().sort_values('title',ascending=False).head()"
   ]
  },
  {
   "cell_type": "code",
   "execution_count": 204,
   "id": "df0b02ce",
   "metadata": {},
   "outputs": [
    {
     "data": {
      "text/html": [
       "<div>\n",
       "<style scoped>\n",
       "    .dataframe tbody tr th:only-of-type {\n",
       "        vertical-align: middle;\n",
       "    }\n",
       "\n",
       "    .dataframe tbody tr th {\n",
       "        vertical-align: top;\n",
       "    }\n",
       "\n",
       "    .dataframe thead th {\n",
       "        text-align: right;\n",
       "    }\n",
       "</style>\n",
       "<table border=\"1\" class=\"dataframe\">\n",
       "  <thead>\n",
       "    <tr style=\"text-align: right;\">\n",
       "      <th></th>\n",
       "      <th>country</th>\n",
       "      <th>cast</th>\n",
       "      <th>title</th>\n",
       "    </tr>\n",
       "  </thead>\n",
       "  <tbody>\n",
       "    <tr>\n",
       "      <th>42243</th>\n",
       "      <td>United States</td>\n",
       "      <td>Alfred Molina</td>\n",
       "      <td>531</td>\n",
       "    </tr>\n",
       "    <tr>\n",
       "      <th>38836</th>\n",
       "      <td>United Kingdom</td>\n",
       "      <td>Alfred Molina</td>\n",
       "      <td>82</td>\n",
       "    </tr>\n",
       "    <tr>\n",
       "      <th>12008</th>\n",
       "      <td>United States</td>\n",
       "      <td>Alfred Molina</td>\n",
       "      <td>46</td>\n",
       "    </tr>\n",
       "    <tr>\n",
       "      <th>24008</th>\n",
       "      <td>India</td>\n",
       "      <td>Anupam Kher</td>\n",
       "      <td>36</td>\n",
       "    </tr>\n",
       "    <tr>\n",
       "      <th>23818</th>\n",
       "      <td>India</td>\n",
       "      <td>Alfred Molina</td>\n",
       "      <td>32</td>\n",
       "    </tr>\n",
       "  </tbody>\n",
       "</table>\n",
       "</div>"
      ],
      "text/plain": [
       "              country            cast  title\n",
       "42243   United States   Alfred Molina    531\n",
       "38836  United Kingdom   Alfred Molina     82\n",
       "12008   United States   Alfred Molina     46\n",
       "24008           India     Anupam Kher     36\n",
       "23818           India   Alfred Molina     32"
      ]
     },
     "execution_count": 204,
     "metadata": {},
     "output_type": "execute_result"
    }
   ],
   "source": [
    "# Top 5 Cast for each country\n",
    "df_combined.groupby(['country','cast'])['title'].nunique().reset_index().sort_values('title',ascending=False).head()"
   ]
  },
  {
   "cell_type": "code",
   "execution_count": 205,
   "id": "21840b71",
   "metadata": {},
   "outputs": [
    {
     "data": {
      "text/html": [
       "<div>\n",
       "<style scoped>\n",
       "    .dataframe tbody tr th:only-of-type {\n",
       "        vertical-align: middle;\n",
       "    }\n",
       "\n",
       "    .dataframe tbody tr th {\n",
       "        vertical-align: top;\n",
       "    }\n",
       "\n",
       "    .dataframe thead th {\n",
       "        text-align: right;\n",
       "    }\n",
       "</style>\n",
       "<table border=\"1\" class=\"dataframe\">\n",
       "  <thead>\n",
       "    <tr style=\"text-align: right;\">\n",
       "      <th></th>\n",
       "      <th>directors</th>\n",
       "      <th>country</th>\n",
       "      <th>title</th>\n",
       "    </tr>\n",
       "  </thead>\n",
       "  <tbody>\n",
       "    <tr>\n",
       "      <th>4860</th>\n",
       "      <td>Martin Scorsese</td>\n",
       "      <td>United States</td>\n",
       "      <td>1267</td>\n",
       "    </tr>\n",
       "    <tr>\n",
       "      <th>4859</th>\n",
       "      <td>Martin Scorsese</td>\n",
       "      <td>United Kingdom</td>\n",
       "      <td>252</td>\n",
       "    </tr>\n",
       "    <tr>\n",
       "      <th>4829</th>\n",
       "      <td>Martin Scorsese</td>\n",
       "      <td>Japan</td>\n",
       "      <td>190</td>\n",
       "    </tr>\n",
       "    <tr>\n",
       "      <th>4850</th>\n",
       "      <td>Martin Scorsese</td>\n",
       "      <td>South Korea</td>\n",
       "      <td>179</td>\n",
       "    </tr>\n",
       "    <tr>\n",
       "      <th>4824</th>\n",
       "      <td>Martin Scorsese</td>\n",
       "      <td>India</td>\n",
       "      <td>101</td>\n",
       "    </tr>\n",
       "  </tbody>\n",
       "</table>\n",
       "</div>"
      ],
      "text/plain": [
       "            directors         country  title\n",
       "4860  Martin Scorsese   United States   1267\n",
       "4859  Martin Scorsese  United Kingdom    252\n",
       "4829  Martin Scorsese           Japan    190\n",
       "4850  Martin Scorsese     South Korea    179\n",
       "4824  Martin Scorsese           India    101"
      ]
     },
     "execution_count": 205,
     "metadata": {},
     "output_type": "execute_result"
    }
   ],
   "source": [
    "# Top 5 directors for each country\n",
    "df_combined.groupby(['directors','country'])['title'].nunique().reset_index().sort_values('title',ascending=False).head()"
   ]
  },
  {
   "cell_type": "code",
   "execution_count": 206,
   "id": "8897e3ed",
   "metadata": {},
   "outputs": [
    {
     "data": {
      "text/html": [
       "<div>\n",
       "<style scoped>\n",
       "    .dataframe tbody tr th:only-of-type {\n",
       "        vertical-align: middle;\n",
       "    }\n",
       "\n",
       "    .dataframe tbody tr th {\n",
       "        vertical-align: top;\n",
       "    }\n",
       "\n",
       "    .dataframe thead th {\n",
       "        text-align: right;\n",
       "    }\n",
       "</style>\n",
       "<table border=\"1\" class=\"dataframe\">\n",
       "  <thead>\n",
       "    <tr style=\"text-align: right;\">\n",
       "      <th></th>\n",
       "      <th>genres</th>\n",
       "      <th>country</th>\n",
       "      <th>title</th>\n",
       "    </tr>\n",
       "  </thead>\n",
       "  <tbody>\n",
       "    <tr>\n",
       "      <th>533</th>\n",
       "      <td>International Movies</td>\n",
       "      <td>India</td>\n",
       "      <td>837</td>\n",
       "    </tr>\n",
       "    <tr>\n",
       "      <th>1917</th>\n",
       "      <td>Documentaries</td>\n",
       "      <td>United States</td>\n",
       "      <td>496</td>\n",
       "    </tr>\n",
       "    <tr>\n",
       "      <th>2094</th>\n",
       "      <td>Dramas</td>\n",
       "      <td>United States</td>\n",
       "      <td>495</td>\n",
       "    </tr>\n",
       "    <tr>\n",
       "      <th>1741</th>\n",
       "      <td>Comedies</td>\n",
       "      <td>United States</td>\n",
       "      <td>433</td>\n",
       "    </tr>\n",
       "    <tr>\n",
       "      <th>2055</th>\n",
       "      <td>Dramas</td>\n",
       "      <td>India</td>\n",
       "      <td>415</td>\n",
       "    </tr>\n",
       "  </tbody>\n",
       "</table>\n",
       "</div>"
      ],
      "text/plain": [
       "                     genres        country  title\n",
       "533    International Movies          India    837\n",
       "1917          Documentaries  United States    496\n",
       "2094                 Dramas  United States    495\n",
       "1741               Comedies  United States    433\n",
       "2055                 Dramas          India    415"
      ]
     },
     "execution_count": 206,
     "metadata": {},
     "output_type": "execute_result"
    }
   ],
   "source": [
    "# Top 5 geners for each country\n",
    "df_combined.groupby(['genres','country'])['title'].nunique().reset_index().sort_values('title',ascending=False).head()"
   ]
  },
  {
   "cell_type": "code",
   "execution_count": 207,
   "id": "1cdac946",
   "metadata": {},
   "outputs": [
    {
     "data": {
      "text/html": [
       "<div>\n",
       "<style scoped>\n",
       "    .dataframe tbody tr th:only-of-type {\n",
       "        vertical-align: middle;\n",
       "    }\n",
       "\n",
       "    .dataframe tbody tr th {\n",
       "        vertical-align: top;\n",
       "    }\n",
       "\n",
       "    .dataframe thead th {\n",
       "        text-align: right;\n",
       "    }\n",
       "</style>\n",
       "<table border=\"1\" class=\"dataframe\">\n",
       "  <thead>\n",
       "    <tr style=\"text-align: right;\">\n",
       "      <th></th>\n",
       "      <th>directors</th>\n",
       "      <th>cast</th>\n",
       "      <th>title</th>\n",
       "    </tr>\n",
       "  </thead>\n",
       "  <tbody>\n",
       "    <tr>\n",
       "      <th>30625</th>\n",
       "      <td>Martin Scorsese</td>\n",
       "      <td>Alfred Molina</td>\n",
       "      <td>353</td>\n",
       "    </tr>\n",
       "    <tr>\n",
       "      <th>41525</th>\n",
       "      <td>Martin Scorsese</td>\n",
       "      <td>Takahiro Sakurai</td>\n",
       "      <td>23</td>\n",
       "    </tr>\n",
       "    <tr>\n",
       "      <th>52124</th>\n",
       "      <td>Rajiv Chilaka</td>\n",
       "      <td>Julie Tejwani</td>\n",
       "      <td>19</td>\n",
       "    </tr>\n",
       "    <tr>\n",
       "      <th>52128</th>\n",
       "      <td>Rajiv Chilaka</td>\n",
       "      <td>Rajesh Kava</td>\n",
       "      <td>19</td>\n",
       "    </tr>\n",
       "    <tr>\n",
       "      <th>52129</th>\n",
       "      <td>Rajiv Chilaka</td>\n",
       "      <td>Rupa Bhimani</td>\n",
       "      <td>18</td>\n",
       "    </tr>\n",
       "  </tbody>\n",
       "</table>\n",
       "</div>"
      ],
      "text/plain": [
       "             directors               cast  title\n",
       "30625  Martin Scorsese      Alfred Molina    353\n",
       "41525  Martin Scorsese   Takahiro Sakurai     23\n",
       "52124    Rajiv Chilaka      Julie Tejwani     19\n",
       "52128    Rajiv Chilaka        Rajesh Kava     19\n",
       "52129    Rajiv Chilaka       Rupa Bhimani     18"
      ]
     },
     "execution_count": 207,
     "metadata": {},
     "output_type": "execute_result"
    }
   ],
   "source": [
    "#Top 5 Actor and Director Combination\n",
    "df_combined.groupby(['directors','cast'])['title'].nunique().reset_index().sort_values('title',ascending=False).head()"
   ]
  },
  {
   "cell_type": "markdown",
   "id": "3d088782",
   "metadata": {},
   "source": [
    "### which genre has howmany no of movie "
   ]
  },
  {
   "cell_type": "code",
   "execution_count": 208,
   "id": "ea9ba19a",
   "metadata": {},
   "outputs": [
    {
     "data": {
      "text/html": [
       "<div>\n",
       "<style scoped>\n",
       "    .dataframe tbody tr th:only-of-type {\n",
       "        vertical-align: middle;\n",
       "    }\n",
       "\n",
       "    .dataframe tbody tr th {\n",
       "        vertical-align: top;\n",
       "    }\n",
       "\n",
       "    .dataframe thead th {\n",
       "        text-align: right;\n",
       "    }\n",
       "</style>\n",
       "<table border=\"1\" class=\"dataframe\">\n",
       "  <thead>\n",
       "    <tr style=\"text-align: right;\">\n",
       "      <th></th>\n",
       "      <th>genres</th>\n",
       "      <th>title</th>\n",
       "    </tr>\n",
       "  </thead>\n",
       "  <tbody>\n",
       "    <tr>\n",
       "      <th>13</th>\n",
       "      <td>International Movies</td>\n",
       "      <td>2624</td>\n",
       "    </tr>\n",
       "    <tr>\n",
       "      <th>49</th>\n",
       "      <td>Dramas</td>\n",
       "      <td>1600</td>\n",
       "    </tr>\n",
       "    <tr>\n",
       "      <th>44</th>\n",
       "      <td>Comedies</td>\n",
       "      <td>1210</td>\n",
       "    </tr>\n",
       "    <tr>\n",
       "      <th>37</th>\n",
       "      <td>Action &amp; Adventure</td>\n",
       "      <td>859</td>\n",
       "    </tr>\n",
       "    <tr>\n",
       "      <th>47</th>\n",
       "      <td>Documentaries</td>\n",
       "      <td>829</td>\n",
       "    </tr>\n",
       "    <tr>\n",
       "      <th>9</th>\n",
       "      <td>Dramas</td>\n",
       "      <td>827</td>\n",
       "    </tr>\n",
       "    <tr>\n",
       "      <th>53</th>\n",
       "      <td>International TV Shows</td>\n",
       "      <td>774</td>\n",
       "    </tr>\n",
       "    <tr>\n",
       "      <th>12</th>\n",
       "      <td>Independent Movies</td>\n",
       "      <td>736</td>\n",
       "    </tr>\n",
       "    <tr>\n",
       "      <th>30</th>\n",
       "      <td>TV Dramas</td>\n",
       "      <td>696</td>\n",
       "    </tr>\n",
       "    <tr>\n",
       "      <th>20</th>\n",
       "      <td>Romantic Movies</td>\n",
       "      <td>613</td>\n",
       "    </tr>\n",
       "  </tbody>\n",
       "</table>\n",
       "</div>"
      ],
      "text/plain": [
       "                    genres  title\n",
       "13    International Movies   2624\n",
       "49                  Dramas   1600\n",
       "44                Comedies   1210\n",
       "37      Action & Adventure    859\n",
       "47           Documentaries    829\n",
       "9                   Dramas    827\n",
       "53  International TV Shows    774\n",
       "12      Independent Movies    736\n",
       "30               TV Dramas    696\n",
       "20         Romantic Movies    613"
      ]
     },
     "execution_count": 208,
     "metadata": {},
     "output_type": "execute_result"
    }
   ],
   "source": [
    "# Top 5 geners for each country\n",
    "x1=df_combined.groupby('genres')['title'].nunique().reset_index().sort_values('title',ascending=False).head(10)\n",
    "x1"
   ]
  },
  {
   "cell_type": "code",
   "execution_count": 209,
   "id": "5fc74fbd",
   "metadata": {},
   "outputs": [
    {
     "data": {
      "image/png": "[encoded data removed]",
      "text/plain": [
       "<Figure size 640x480 with 1 Axes>"
      ]
     },
     "metadata": {},
     "output_type": "display_data"
    }
   ],
   "source": [
    "sns.barplot(data=x1, x=\"genres\", y=\"title\")\n",
    "plt.xticks(rotation=90)\n",
    "plt.show()"
   ]
  },
  {
   "cell_type": "code",
   "execution_count": 210,
   "id": "deca762d",
   "metadata": {},
   "outputs": [],
   "source": [
    "# Top 5 geners for each country\n",
    "x1=df_combined.groupby(['country','genres'])['title'].nunique().reset_index().sort_values('title',ascending=False)\n",
    "x_india=x1[x1['country']=='India'].head(10)\n",
    "x_us=x1[x1['country']=='United States'].head(10)"
   ]
  },
  {
   "cell_type": "code",
   "execution_count": 211,
   "id": "142aea27",
   "metadata": {},
   "outputs": [
    {
     "data": {
      "text/html": [
       "<div>\n",
       "<style scoped>\n",
       "    .dataframe tbody tr th:only-of-type {\n",
       "        vertical-align: middle;\n",
       "    }\n",
       "\n",
       "    .dataframe tbody tr th {\n",
       "        vertical-align: top;\n",
       "    }\n",
       "\n",
       "    .dataframe thead th {\n",
       "        text-align: right;\n",
       "    }\n",
       "</style>\n",
       "<table border=\"1\" class=\"dataframe\">\n",
       "  <thead>\n",
       "    <tr style=\"text-align: right;\">\n",
       "      <th></th>\n",
       "      <th>country</th>\n",
       "      <th>genres</th>\n",
       "      <th>title</th>\n",
       "    </tr>\n",
       "  </thead>\n",
       "  <tbody>\n",
       "    <tr>\n",
       "      <th>1560</th>\n",
       "      <td>India</td>\n",
       "      <td>International Movies</td>\n",
       "      <td>837</td>\n",
       "    </tr>\n",
       "    <tr>\n",
       "      <th>1589</th>\n",
       "      <td>India</td>\n",
       "      <td>Dramas</td>\n",
       "      <td>415</td>\n",
       "    </tr>\n",
       "    <tr>\n",
       "      <th>1584</th>\n",
       "      <td>India</td>\n",
       "      <td>Comedies</td>\n",
       "      <td>274</td>\n",
       "    </tr>\n",
       "    <tr>\n",
       "      <th>1556</th>\n",
       "      <td>India</td>\n",
       "      <td>Dramas</td>\n",
       "      <td>254</td>\n",
       "    </tr>\n",
       "    <tr>\n",
       "      <th>1559</th>\n",
       "      <td>India</td>\n",
       "      <td>Independent Movies</td>\n",
       "      <td>163</td>\n",
       "    </tr>\n",
       "    <tr>\n",
       "      <th>1580</th>\n",
       "      <td>India</td>\n",
       "      <td>Action &amp; Adventure</td>\n",
       "      <td>141</td>\n",
       "    </tr>\n",
       "    <tr>\n",
       "      <th>1565</th>\n",
       "      <td>India</td>\n",
       "      <td>Romantic Movies</td>\n",
       "      <td>122</td>\n",
       "    </tr>\n",
       "    <tr>\n",
       "      <th>1563</th>\n",
       "      <td>India</td>\n",
       "      <td>Music &amp; Musicals</td>\n",
       "      <td>98</td>\n",
       "    </tr>\n",
       "    <tr>\n",
       "      <th>1579</th>\n",
       "      <td>India</td>\n",
       "      <td>Thrillers</td>\n",
       "      <td>98</td>\n",
       "    </tr>\n",
       "    <tr>\n",
       "      <th>1582</th>\n",
       "      <td>India</td>\n",
       "      <td>Children &amp; Family Movies</td>\n",
       "      <td>60</td>\n",
       "    </tr>\n",
       "  </tbody>\n",
       "</table>\n",
       "</div>"
      ],
      "text/plain": [
       "     country                    genres  title\n",
       "1560   India      International Movies    837\n",
       "1589   India                    Dramas    415\n",
       "1584   India                  Comedies    274\n",
       "1556   India                    Dramas    254\n",
       "1559   India        Independent Movies    163\n",
       "1580   India        Action & Adventure    141\n",
       "1565   India           Romantic Movies    122\n",
       "1563   India          Music & Musicals     98\n",
       "1579   India                 Thrillers     98\n",
       "1582   India  Children & Family Movies     60"
      ]
     },
     "execution_count": 211,
     "metadata": {},
     "output_type": "execute_result"
    }
   ],
   "source": [
    "x_india"
   ]
  },
  {
   "cell_type": "code",
   "execution_count": 212,
   "id": "fbd8d674",
   "metadata": {},
   "outputs": [
    {
     "data": {
      "image/png": "[encoded data removed]",
      "text/plain": [
       "<Figure size 1000x500 with 2 Axes>"
      ]
     },
     "metadata": {},
     "output_type": "display_data"
    }
   ],
   "source": [
    "fig, axes = plt.subplots(1, 2, figsize=(10, 5), sharey=True)\n",
    "fig.suptitle('Demand of diff genres in US and India')\n",
    "\n",
    "sns.barplot(ax=axes[0],data=x_india, x=\"genres\", y=\"title\",hue='country')\n",
    "axes[0].set_xticklabels(x_india['genres'],rotation=90)\n",
    "\n",
    "sns.barplot(ax=axes[1],data=x_us, x=\"genres\", y=\"title\",hue='country')\n",
    "axes[1].set_xticklabels(x_us['genres'],rotation=90)\n",
    "plt.show()"
   ]
  },
  {
   "cell_type": "markdown",
   "id": "61fa7baf",
   "metadata": {},
   "source": [
    "### Which genres increased these Years"
   ]
  },
  {
   "cell_type": "code",
   "execution_count": 213,
   "id": "8f0856e1",
   "metadata": {},
   "outputs": [],
   "source": [
    "df_genre=df_combined[['title','release_year','genres']].drop_duplicates()"
   ]
  },
  {
   "cell_type": "code",
   "execution_count": 214,
   "id": "ccee991e",
   "metadata": {},
   "outputs": [],
   "source": [
    "df_genre_count=df_genre.groupby(['release_year','genres'])['title'].nunique().reset_index()"
   ]
  },
  {
   "cell_type": "code",
   "execution_count": 215,
   "id": "4f8a085a",
   "metadata": {},
   "outputs": [],
   "source": [
    "df_genre_count['bin_year']=year_bin(df_genre_count,cut_points,labels)"
   ]
  },
  {
   "cell_type": "code",
   "execution_count": 216,
   "id": "06ad4be3",
   "metadata": {},
   "outputs": [],
   "source": [
    "df_bin=df_genre_count.groupby(['bin_year','genres'])['title'].sum().reset_index()"
   ]
  },
  {
   "cell_type": "code",
   "execution_count": 217,
   "id": "db82c70e",
   "metadata": {},
   "outputs": [
    {
     "data": {
      "text/html": [
       "<div>\n",
       "<style scoped>\n",
       "    .dataframe tbody tr th:only-of-type {\n",
       "        vertical-align: middle;\n",
       "    }\n",
       "\n",
       "    .dataframe tbody tr th {\n",
       "        vertical-align: top;\n",
       "    }\n",
       "\n",
       "    .dataframe thead th {\n",
       "        text-align: right;\n",
       "    }\n",
       "</style>\n",
       "<table border=\"1\" class=\"dataframe\">\n",
       "  <thead>\n",
       "    <tr style=\"text-align: right;\">\n",
       "      <th>bin_year</th>\n",
       "      <th>1925-1935</th>\n",
       "      <th>1935-1945</th>\n",
       "      <th>1945-1955</th>\n",
       "      <th>1955-1965</th>\n",
       "      <th>1965-1975</th>\n",
       "      <th>1975-1985</th>\n",
       "      <th>1985-1995</th>\n",
       "      <th>1995-2005</th>\n",
       "      <th>2005-2015</th>\n",
       "      <th>2015-2023</th>\n",
       "    </tr>\n",
       "    <tr>\n",
       "      <th>genres</th>\n",
       "      <th></th>\n",
       "      <th></th>\n",
       "      <th></th>\n",
       "      <th></th>\n",
       "      <th></th>\n",
       "      <th></th>\n",
       "      <th></th>\n",
       "      <th></th>\n",
       "      <th></th>\n",
       "      <th></th>\n",
       "    </tr>\n",
       "  </thead>\n",
       "  <tbody>\n",
       "    <tr>\n",
       "      <th>International Movies</th>\n",
       "      <td>0</td>\n",
       "      <td>0</td>\n",
       "      <td>1</td>\n",
       "      <td>7</td>\n",
       "      <td>20</td>\n",
       "      <td>54</td>\n",
       "      <td>46</td>\n",
       "      <td>145</td>\n",
       "      <td>802</td>\n",
       "      <td>1549</td>\n",
       "    </tr>\n",
       "    <tr>\n",
       "      <th>Dramas</th>\n",
       "      <td>0</td>\n",
       "      <td>0</td>\n",
       "      <td>0</td>\n",
       "      <td>1</td>\n",
       "      <td>4</td>\n",
       "      <td>20</td>\n",
       "      <td>36</td>\n",
       "      <td>99</td>\n",
       "      <td>479</td>\n",
       "      <td>961</td>\n",
       "    </tr>\n",
       "    <tr>\n",
       "      <th>Comedies</th>\n",
       "      <td>0</td>\n",
       "      <td>0</td>\n",
       "      <td>0</td>\n",
       "      <td>2</td>\n",
       "      <td>4</td>\n",
       "      <td>19</td>\n",
       "      <td>23</td>\n",
       "      <td>110</td>\n",
       "      <td>409</td>\n",
       "      <td>643</td>\n",
       "    </tr>\n",
       "    <tr>\n",
       "      <th>Documentaries</th>\n",
       "      <td>0</td>\n",
       "      <td>2</td>\n",
       "      <td>0</td>\n",
       "      <td>0</td>\n",
       "      <td>2</td>\n",
       "      <td>3</td>\n",
       "      <td>4</td>\n",
       "      <td>12</td>\n",
       "      <td>165</td>\n",
       "      <td>641</td>\n",
       "    </tr>\n",
       "    <tr>\n",
       "      <th>International TV Shows</th>\n",
       "      <td>0</td>\n",
       "      <td>0</td>\n",
       "      <td>0</td>\n",
       "      <td>0</td>\n",
       "      <td>1</td>\n",
       "      <td>0</td>\n",
       "      <td>0</td>\n",
       "      <td>16</td>\n",
       "      <td>191</td>\n",
       "      <td>566</td>\n",
       "    </tr>\n",
       "  </tbody>\n",
       "</table>\n",
       "</div>"
      ],
      "text/plain": [
       "bin_year                1925-1935  1935-1945  1945-1955  1955-1965  1965-1975  \\\n",
       "genres                                                                          \n",
       " International Movies           0          0          1          7         20   \n",
       "Dramas                          0          0          0          1          4   \n",
       "Comedies                        0          0          0          2          4   \n",
       "Documentaries                   0          2          0          0          2   \n",
       "International TV Shows          0          0          0          0          1   \n",
       "\n",
       "bin_year                1975-1985  1985-1995  1995-2005  2005-2015  2015-2023  \n",
       "genres                                                                         \n",
       " International Movies          54         46        145        802       1549  \n",
       "Dramas                         20         36         99        479        961  \n",
       "Comedies                       19         23        110        409        643  \n",
       "Documentaries                   3          4         12        165        641  \n",
       "International TV Shows          0          0         16        191        566  "
      ]
     },
     "execution_count": 217,
     "metadata": {},
     "output_type": "execute_result"
    }
   ],
   "source": [
    "df_genre_bin=df_bin.pivot(index='genres', columns='bin_year', values='title').sort_values('2015-2023',ascending=False).head()\n",
    "df_genre_bin"
   ]
  },
  {
   "cell_type": "markdown",
   "id": "8f323fbd",
   "metadata": {},
   "source": [
    "->>>>>>>>>>>>>>>>>>>>>>>>>>>>>>>>>>>>>>>>>>>>>>>>>>>>>>>>>>>>>>>>>>>>>>>>>>>>>>>>>>>>>>>>>>>>>>>>>>Increasing"
   ]
  },
  {
   "cell_type": "markdown",
   "id": "ddc13b37",
   "metadata": {},
   "source": [
    "Documentaries and international TV Shows has increased 288% and 196% recent years "
   ]
  },
  {
   "cell_type": "code",
   "execution_count": 218,
   "id": "2cfe945c",
   "metadata": {},
   "outputs": [
    {
     "data": {
      "text/plain": [
       "288.4848484848485"
      ]
     },
     "execution_count": 218,
     "metadata": {},
     "output_type": "execute_result"
    }
   ],
   "source": [
    "(641-165)/165*100"
   ]
  },
  {
   "cell_type": "code",
   "execution_count": 219,
   "id": "3f6cdb95",
   "metadata": {},
   "outputs": [
    {
     "data": {
      "text/plain": [
       "196.3350785340314"
      ]
     },
     "execution_count": 219,
     "metadata": {},
     "output_type": "execute_result"
    }
   ],
   "source": [
    "(566-191)/191*100"
   ]
  },
  {
   "cell_type": "code",
   "execution_count": 220,
   "id": "2a31801d",
   "metadata": {},
   "outputs": [
    {
     "data": {
      "text/plain": [
       "Index([' International Movies', 'Dramas', 'Comedies', 'Documentaries',\n",
       "       'International TV Shows'],\n",
       "      dtype='object', name='genres')"
      ]
     },
     "execution_count": 220,
     "metadata": {},
     "output_type": "execute_result"
    }
   ],
   "source": [
    "df_genre_bin.index"
   ]
  },
  {
   "cell_type": "markdown",
   "id": "59f6359b",
   "metadata": {},
   "source": [
    "### Recomendation"
   ]
  },
  {
   "cell_type": "markdown",
   "id": "1ba22de3",
   "metadata": {},
   "source": [
    "*As we dont have Production Budget,Revenue,Views,Rating etc. so we will assume that whatever data we have is working for netflix"
   ]
  },
  {
   "cell_type": "markdown",
   "id": "661caff0",
   "metadata": {},
   "source": [
    "1.We should focus on Documentaries and international TV Shows as it has increased 288% and 196% recent years"
   ]
  },
  {
   "cell_type": "markdown",
   "id": "6b6e5020",
   "metadata": {},
   "source": [
    "2.In US demand for Documentaries has increased these recent years "
   ]
  },
  {
   "cell_type": "markdown",
   "id": "304bce3b",
   "metadata": {},
   "source": [
    "3.TV-MA and TV-14 has increased 386% and 108% in recent years"
   ]
  },
  {
   "cell_type": "markdown",
   "id": "1cf019ac",
   "metadata": {},
   "source": [
    "4.In India high demand for international Movies"
   ]
  },
  {
   "cell_type": "markdown",
   "id": "11152b8f",
   "metadata": {},
   "source": [
    "5.TV_Shows Increased 275% in 10 years"
   ]
  },
  {
   "cell_type": "markdown",
   "id": "13b877f7",
   "metadata": {},
   "source": [
    "6.Duration for movies should be 99 min and tv_shows must be of 2 seasons"
   ]
  },
  {
   "cell_type": "markdown",
   "id": "3b340b79",
   "metadata": {},
   "source": [
    "7.Director Martin Scorsese must make more movies"
   ]
  },
  {
   "cell_type": "markdown",
   "id": "5cbe0c23",
   "metadata": {},
   "source": [
    "8.Actor Alfred Molina has more movies"
   ]
  },
  {
   "cell_type": "markdown",
   "id": "b6fe4759",
   "metadata": {},
   "source": [
    "9.Director Martin Scorsese,Actor Alfred Molina has more movies"
   ]
  },
  {
   "cell_type": "code",
   "execution_count": null,
   "id": "d163aad8",
   "metadata": {},
   "outputs": [],
   "source": []
  }
 ],
 "metadata": {
  "kernelspec": {
   "display_name": "Python 3 (ipykernel)",
   "language": "python",
   "name": "python3"
  },
  "language_info": {
   "codemirror_mode": {
    "name": "ipython",
    "version": 3
   },
   "file_extension": ".py",
   "mimetype": "text/x-python",
   "name": "python",
   "nbconvert_exporter": "python",
   "pygments_lexer": "ipython3",
   "version": "3.9.12"
  }
 },
 "nbformat": 4,
 "nbformat_minor": 5
}
